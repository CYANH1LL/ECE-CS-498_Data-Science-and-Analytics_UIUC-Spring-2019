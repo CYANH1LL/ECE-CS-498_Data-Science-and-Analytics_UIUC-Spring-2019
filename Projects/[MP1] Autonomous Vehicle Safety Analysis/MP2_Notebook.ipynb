{
 "cells": [
  {
   "cell_type": "markdown",
   "metadata": {
    "colab_type": "text",
    "id": "bXQ_EMVbSAYH"
   },
   "source": [
    "# MP01: CS 498 DSG (Spring 2019)\n"
   ]
  },
  {
   "cell_type": "markdown",
   "metadata": {
    "colab_type": "text",
    "id": "rILROQoXSAYK"
   },
   "source": [
    "# Task 0 – Getting to know the analysis environment"
   ]
  },
  {
   "cell_type": "markdown",
   "metadata": {
    "colab_type": "text",
    "id": "v-r1JqFySAYM"
   },
   "source": [
    "##  1. Import the data into Jupyter Notebook."
   ]
  },
  {
   "cell_type": "code",
   "execution_count": 12,
   "metadata": {
    "colab": {},
    "colab_type": "code",
    "id": "4LJtNriNV7Tr"
   },
   "outputs": [],
   "source": [
    "# import the required libraries\n",
    "import pandas as pd\n",
    "import numpy as np\n",
    "from datetime import datetime\n",
    "import matplotlib.pyplot as plt \n",
    "import seaborn as sns\n",
    "from scipy import stats\n"
   ]
  },
  {
   "cell_type": "code",
   "execution_count": 2,
   "metadata": {
    "colab": {},
    "colab_type": "code",
    "id": "4MgdBUFdSAYY"
   },
   "outputs": [],
   "source": [
    "# import the datasets\n",
    "diseng = pd.read_csv('mp1_av_disengagements.csv',sep=',') # disengagements\n",
    "t_miles = pd.read_csv('mp1_av_totalmiles.csv',sep=',')    # total miles"
   ]
  },
  {
   "cell_type": "code",
   "execution_count": 3,
   "metadata": {
    "colab": {},
    "colab_type": "code",
    "id": "uf6M2ktLW2vV"
   },
   "outputs": [],
   "source": [
    "diseng['Month']=pd.to_datetime(diseng['Month'],format='%y-%b')\n",
    "t_miles['Month']=pd.to_datetime(t_miles['Month'],format='%y-%b')"
   ]
  },
  {
   "cell_type": "code",
   "execution_count": 4,
   "metadata": {
    "colab": {
     "base_uri": "https://localhost:8080/",
     "height": 221
    },
    "colab_type": "code",
    "executionInfo": {
     "elapsed": 366,
     "status": "ok",
     "timestamp": 1550540334217,
     "user": {
      "displayName": "Qasim Nazir",
      "photoUrl": "https://lh3.googleusercontent.com/-l-ZaWBCgmIs/AAAAAAAAAAI/AAAAAAAAYSo/-zOTCilviDI/s64/photo.jpg",
      "userId": "05547482919120757611"
     },
     "user_tz": 360
    },
    "id": "ezkUd0NGSAYd",
    "outputId": "21fdfb2a-d68f-4fa0-cde3-e2e3d35ba811"
   },
   "outputs": [
    {
     "name": "stdout",
     "output_type": "stream",
     "text": [
      "(1024, 7)\n"
     ]
    },
    {
     "data": {
      "text/html": [
       "<div>\n",
       "<style scoped>\n",
       "    .dataframe tbody tr th:only-of-type {\n",
       "        vertical-align: middle;\n",
       "    }\n",
       "\n",
       "    .dataframe tbody tr th {\n",
       "        vertical-align: top;\n",
       "    }\n",
       "\n",
       "    .dataframe thead th {\n",
       "        text-align: right;\n",
       "    }\n",
       "</style>\n",
       "<table border=\"1\" class=\"dataframe\">\n",
       "  <thead>\n",
       "    <tr style=\"text-align: right;\">\n",
       "      <th></th>\n",
       "      <th>Month</th>\n",
       "      <th>Car</th>\n",
       "      <th>Location</th>\n",
       "      <th>Weather</th>\n",
       "      <th>TypeOfTrigger</th>\n",
       "      <th>ReactionTime</th>\n",
       "      <th>Cause</th>\n",
       "    </tr>\n",
       "  </thead>\n",
       "  <tbody>\n",
       "    <tr>\n",
       "      <th>0</th>\n",
       "      <td>2014-09-01</td>\n",
       "      <td>WDD2221851A001072</td>\n",
       "      <td>urban-street</td>\n",
       "      <td>cloudy</td>\n",
       "      <td>automatic</td>\n",
       "      <td>0.58</td>\n",
       "      <td>Incorrect Traffic Light Detection</td>\n",
       "    </tr>\n",
       "    <tr>\n",
       "      <th>1</th>\n",
       "      <td>2014-09-01</td>\n",
       "      <td>WDD2221851A001072</td>\n",
       "      <td>urban-street</td>\n",
       "      <td>cloudy</td>\n",
       "      <td>automatic</td>\n",
       "      <td>0.66</td>\n",
       "      <td>Adverse road surface conditions</td>\n",
       "    </tr>\n",
       "    <tr>\n",
       "      <th>2</th>\n",
       "      <td>2014-09-01</td>\n",
       "      <td>WDD2221851A001072</td>\n",
       "      <td>urban-street</td>\n",
       "      <td>cloudy</td>\n",
       "      <td>automatic</td>\n",
       "      <td>1.93</td>\n",
       "      <td>Position Estimation Failure</td>\n",
       "    </tr>\n",
       "    <tr>\n",
       "      <th>3</th>\n",
       "      <td>2014-09-01</td>\n",
       "      <td>WDD2221851A001072</td>\n",
       "      <td>urban-street</td>\n",
       "      <td>cloudy</td>\n",
       "      <td>automatic</td>\n",
       "      <td>0.65</td>\n",
       "      <td>Emergency Vehicle</td>\n",
       "    </tr>\n",
       "    <tr>\n",
       "      <th>4</th>\n",
       "      <td>2014-09-01</td>\n",
       "      <td>WDD2221851A001072</td>\n",
       "      <td>urban-street</td>\n",
       "      <td>cloudy</td>\n",
       "      <td>automatic</td>\n",
       "      <td>0.64</td>\n",
       "      <td>Adverse road surface conditions</td>\n",
       "    </tr>\n",
       "  </tbody>\n",
       "</table>\n",
       "</div>"
      ],
      "text/plain": [
       "       Month                ...                                              Cause\n",
       "0 2014-09-01                ...                  Incorrect Traffic Light Detection\n",
       "1 2014-09-01                ...                    Adverse road surface conditions\n",
       "2 2014-09-01                ...                        Position Estimation Failure\n",
       "3 2014-09-01                ...                                  Emergency Vehicle\n",
       "4 2014-09-01                ...                    Adverse road surface conditions\n",
       "\n",
       "[5 rows x 7 columns]"
      ]
     },
     "execution_count": 4,
     "metadata": {},
     "output_type": "execute_result"
    }
   ],
   "source": [
    "print(diseng.shape)\n",
    "diseng.head()"
   ]
  },
  {
   "cell_type": "code",
   "execution_count": 0,
   "metadata": {
    "colab": {
     "base_uri": "https://localhost:8080/",
     "height": 899
    },
    "colab_type": "code",
    "executionInfo": {
     "elapsed": 335,
     "status": "ok",
     "timestamp": 1550540339588,
     "user": {
      "displayName": "Qasim Nazir",
      "photoUrl": "https://lh3.googleusercontent.com/-l-ZaWBCgmIs/AAAAAAAAAAI/AAAAAAAAYSo/-zOTCilviDI/s64/photo.jpg",
      "userId": "05547482919120757611"
     },
     "user_tz": 360
    },
    "id": "ibi17TnMSAYn",
    "outputId": "64130706-134b-4eae-95c8-a82af2c8c2d9"
   },
   "outputs": [
    {
     "name": "stdout",
     "output_type": "stream",
     "text": [
      "(17, 6)\n"
     ]
    },
    {
     "data": {
      "text/html": [
       "<div>\n",
       "<style scoped>\n",
       "    .dataframe tbody tr th:only-of-type {\n",
       "        vertical-align: middle;\n",
       "    }\n",
       "\n",
       "    .dataframe tbody tr th {\n",
       "        vertical-align: top;\n",
       "    }\n",
       "\n",
       "    .dataframe thead th {\n",
       "        text-align: right;\n",
       "    }\n",
       "</style>\n",
       "<table border=\"1\" class=\"dataframe\">\n",
       "  <thead>\n",
       "    <tr style=\"text-align: right;\">\n",
       "      <th></th>\n",
       "      <th>Month</th>\n",
       "      <th>Car</th>\n",
       "      <th>miles driven in autonomous mode</th>\n",
       "      <th>total number of disengagements</th>\n",
       "      <th>number of automatic disengagements</th>\n",
       "      <th>number of manual disengagements</th>\n",
       "    </tr>\n",
       "  </thead>\n",
       "  <tbody>\n",
       "    <tr>\n",
       "      <th>0</th>\n",
       "      <td>2014-09-01</td>\n",
       "      <td>WDD2221851A001072</td>\n",
       "      <td>4207</td>\n",
       "      <td>44</td>\n",
       "      <td>24</td>\n",
       "      <td>20</td>\n",
       "    </tr>\n",
       "    <tr>\n",
       "      <th>1</th>\n",
       "      <td>2014-10-01</td>\n",
       "      <td>WDD2221851A001072</td>\n",
       "      <td>23971</td>\n",
       "      <td>228</td>\n",
       "      <td>100</td>\n",
       "      <td>128</td>\n",
       "    </tr>\n",
       "    <tr>\n",
       "      <th>2</th>\n",
       "      <td>2014-11-01</td>\n",
       "      <td>WDD2221851A001072</td>\n",
       "      <td>15837</td>\n",
       "      <td>141</td>\n",
       "      <td>66</td>\n",
       "      <td>75</td>\n",
       "    </tr>\n",
       "    <tr>\n",
       "      <th>3</th>\n",
       "      <td>2014-12-01</td>\n",
       "      <td>WDD2221851A001072</td>\n",
       "      <td>9413</td>\n",
       "      <td>36</td>\n",
       "      <td>15</td>\n",
       "      <td>21</td>\n",
       "    </tr>\n",
       "    <tr>\n",
       "      <th>4</th>\n",
       "      <td>2015-01-01</td>\n",
       "      <td>WDD2221851A001072</td>\n",
       "      <td>18192</td>\n",
       "      <td>48</td>\n",
       "      <td>18</td>\n",
       "      <td>30</td>\n",
       "    </tr>\n",
       "    <tr>\n",
       "      <th>5</th>\n",
       "      <td>2015-02-01</td>\n",
       "      <td>WDD2221851A001072</td>\n",
       "      <td>18745</td>\n",
       "      <td>16</td>\n",
       "      <td>8</td>\n",
       "      <td>8</td>\n",
       "    </tr>\n",
       "    <tr>\n",
       "      <th>6</th>\n",
       "      <td>2015-03-01</td>\n",
       "      <td>WDD2221851A001072</td>\n",
       "      <td>22204</td>\n",
       "      <td>39</td>\n",
       "      <td>31</td>\n",
       "      <td>8</td>\n",
       "    </tr>\n",
       "    <tr>\n",
       "      <th>7</th>\n",
       "      <td>2015-04-01</td>\n",
       "      <td>WDD2221851A001072</td>\n",
       "      <td>31927</td>\n",
       "      <td>72</td>\n",
       "      <td>51</td>\n",
       "      <td>21</td>\n",
       "    </tr>\n",
       "    <tr>\n",
       "      <th>8</th>\n",
       "      <td>2015-05-01</td>\n",
       "      <td>WDD2221851A001072</td>\n",
       "      <td>38017</td>\n",
       "      <td>34</td>\n",
       "      <td>11</td>\n",
       "      <td>23</td>\n",
       "    </tr>\n",
       "    <tr>\n",
       "      <th>9</th>\n",
       "      <td>2015-06-01</td>\n",
       "      <td>WDD2221851A001072</td>\n",
       "      <td>42047</td>\n",
       "      <td>127</td>\n",
       "      <td>58</td>\n",
       "      <td>69</td>\n",
       "    </tr>\n",
       "    <tr>\n",
       "      <th>10</th>\n",
       "      <td>2015-07-01</td>\n",
       "      <td>WDD2221851A001072</td>\n",
       "      <td>34805</td>\n",
       "      <td>69</td>\n",
       "      <td>30</td>\n",
       "      <td>39</td>\n",
       "    </tr>\n",
       "    <tr>\n",
       "      <th>11</th>\n",
       "      <td>2015-08-01</td>\n",
       "      <td>WDD2221851A001072</td>\n",
       "      <td>38220</td>\n",
       "      <td>24</td>\n",
       "      <td>13</td>\n",
       "      <td>11</td>\n",
       "    </tr>\n",
       "    <tr>\n",
       "      <th>12</th>\n",
       "      <td>2015-09-01</td>\n",
       "      <td>WDD2221851A001072</td>\n",
       "      <td>36327</td>\n",
       "      <td>43</td>\n",
       "      <td>22</td>\n",
       "      <td>21</td>\n",
       "    </tr>\n",
       "    <tr>\n",
       "      <th>13</th>\n",
       "      <td>2015-10-01</td>\n",
       "      <td>WDD2221851A001072</td>\n",
       "      <td>47144</td>\n",
       "      <td>17</td>\n",
       "      <td>5</td>\n",
       "      <td>12</td>\n",
       "    </tr>\n",
       "    <tr>\n",
       "      <th>14</th>\n",
       "      <td>2015-11-01</td>\n",
       "      <td>WDD2221851A001072</td>\n",
       "      <td>43276</td>\n",
       "      <td>22</td>\n",
       "      <td>11</td>\n",
       "      <td>11</td>\n",
       "    </tr>\n",
       "    <tr>\n",
       "      <th>15</th>\n",
       "      <td>2014-10-01</td>\n",
       "      <td>WDD2221851A000495</td>\n",
       "      <td>37910</td>\n",
       "      <td>16</td>\n",
       "      <td>11</td>\n",
       "      <td>5</td>\n",
       "    </tr>\n",
       "    <tr>\n",
       "      <th>16</th>\n",
       "      <td>2014-11-01</td>\n",
       "      <td>WDD2221851A000495</td>\n",
       "      <td>42987</td>\n",
       "      <td>48</td>\n",
       "      <td>19</td>\n",
       "      <td>29</td>\n",
       "    </tr>\n",
       "  </tbody>\n",
       "</table>\n",
       "</div>"
      ],
      "text/plain": [
       "        Month                Car  miles driven in autonomous mode  \\\n",
       "0  2014-09-01  WDD2221851A001072                             4207   \n",
       "1  2014-10-01  WDD2221851A001072                            23971   \n",
       "2  2014-11-01  WDD2221851A001072                            15837   \n",
       "3  2014-12-01  WDD2221851A001072                             9413   \n",
       "4  2015-01-01  WDD2221851A001072                            18192   \n",
       "5  2015-02-01  WDD2221851A001072                            18745   \n",
       "6  2015-03-01  WDD2221851A001072                            22204   \n",
       "7  2015-04-01  WDD2221851A001072                            31927   \n",
       "8  2015-05-01  WDD2221851A001072                            38017   \n",
       "9  2015-06-01  WDD2221851A001072                            42047   \n",
       "10 2015-07-01  WDD2221851A001072                            34805   \n",
       "11 2015-08-01  WDD2221851A001072                            38220   \n",
       "12 2015-09-01  WDD2221851A001072                            36327   \n",
       "13 2015-10-01  WDD2221851A001072                            47144   \n",
       "14 2015-11-01  WDD2221851A001072                            43276   \n",
       "15 2014-10-01  WDD2221851A000495                            37910   \n",
       "16 2014-11-01  WDD2221851A000495                            42987   \n",
       "\n",
       "    total number of disengagements  number of automatic disengagements  \\\n",
       "0                               44                                  24   \n",
       "1                              228                                 100   \n",
       "2                              141                                  66   \n",
       "3                               36                                  15   \n",
       "4                               48                                  18   \n",
       "5                               16                                   8   \n",
       "6                               39                                  31   \n",
       "7                               72                                  51   \n",
       "8                               34                                  11   \n",
       "9                              127                                  58   \n",
       "10                              69                                  30   \n",
       "11                              24                                  13   \n",
       "12                              43                                  22   \n",
       "13                              17                                   5   \n",
       "14                              22                                  11   \n",
       "15                              16                                  11   \n",
       "16                              48                                  19   \n",
       "\n",
       "    number of manual disengagements  \n",
       "0                                20  \n",
       "1                               128  \n",
       "2                                75  \n",
       "3                                21  \n",
       "4                                30  \n",
       "5                                 8  \n",
       "6                                 8  \n",
       "7                                21  \n",
       "8                                23  \n",
       "9                                69  \n",
       "10                               39  \n",
       "11                               11  \n",
       "12                               21  \n",
       "13                               12  \n",
       "14                               11  \n",
       "15                                5  \n",
       "16                               29  "
      ]
     },
     "execution_count": 5,
     "metadata": {
      "tags": []
     },
     "output_type": "execute_result"
    }
   ],
   "source": [
    "print(t_miles.shape)\n",
    "t_miles"
   ]
  },
  {
   "cell_type": "markdown",
   "metadata": {
    "colab_type": "text",
    "id": "d42dCQJ-SAY3"
   },
   "source": [
    "##  2. Summarize the following information"
   ]
  },
  {
   "cell_type": "markdown",
   "metadata": {
    "colab_type": "text",
    "id": "uZeDqQmHSAY4"
   },
   "source": [
    "### a. Total number of AV disengagements over the entire duration of available data"
   ]
  },
  {
   "cell_type": "code",
   "execution_count": 5,
   "metadata": {
    "colab": {
     "base_uri": "https://localhost:8080/",
     "height": 35
    },
    "colab_type": "code",
    "id": "SiSHuXbNSAY7",
    "outputId": "4d9792f3-3cc5-40c8-9273-ad60a373e959"
   },
   "outputs": [
    {
     "name": "stdout",
     "output_type": "stream",
     "text": [
      "1024\n"
     ]
    }
   ],
   "source": [
    "print(t_miles['total number of disengagements'].sum())"
   ]
  },
  {
   "cell_type": "markdown",
   "metadata": {
    "colab_type": "text",
    "id": "TYpCs696SAZC"
   },
   "source": [
    "### b. Number of unique months that have recorded AV disengagements"
   ]
  },
  {
   "cell_type": "code",
   "execution_count": 0,
   "metadata": {
    "colab": {
     "base_uri": "https://localhost:8080/",
     "height": 35
    },
    "colab_type": "code",
    "id": "IzCFK_rISAZF",
    "outputId": "92cda147-7dff-4db5-9e40-a33a2b22f453"
   },
   "outputs": [
    {
     "name": "stdout",
     "output_type": "stream",
     "text": [
      "15\n"
     ]
    }
   ],
   "source": [
    "unique_months = t_miles['Month'].unique()\n",
    "print(len(unique_months))"
   ]
  },
  {
   "cell_type": "markdown",
   "metadata": {
    "colab_type": "text",
    "id": "yN1kbbpOSAZN"
   },
   "source": [
    "### c. List of unique locations of AV disengagements"
   ]
  },
  {
   "cell_type": "code",
   "execution_count": 0,
   "metadata": {
    "colab": {
     "base_uri": "https://localhost:8080/",
     "height": 35
    },
    "colab_type": "code",
    "id": "aag7DTYqSAZP",
    "outputId": "bd1676c4-a8aa-4b7e-9ce5-42f045c6591a"
   },
   "outputs": [
    {
     "name": "stdout",
     "output_type": "stream",
     "text": [
      "['urban-street' 'highway']\n"
     ]
    }
   ],
   "source": [
    "unique_locations = diseng['Location'].unique()\n",
    "print(unique_locations)"
   ]
  },
  {
   "cell_type": "markdown",
   "metadata": {
    "colab_type": "text",
    "id": "f5gmHiCXSAZV"
   },
   "source": [
    "### d. Number of unique causes for AV disengagements"
   ]
  },
  {
   "cell_type": "code",
   "execution_count": 0,
   "metadata": {
    "colab": {
     "base_uri": "https://localhost:8080/",
     "height": 35
    },
    "colab_type": "code",
    "id": "Z0MsNMKISAZX",
    "outputId": "e5fb8efc-6340-4763-c05b-72b4fa738695"
   },
   "outputs": [
    {
     "name": "stdout",
     "output_type": "stream",
     "text": [
      "10\n"
     ]
    }
   ],
   "source": [
    "unique_cause= diseng['Cause'].unique()\n",
    "print(len(unique_cause))"
   ]
  },
  {
   "cell_type": "markdown",
   "metadata": {
    "colab_type": "text",
    "id": "1EP5IQ4FSAZe"
   },
   "source": [
    "### e. Number of missing values (NAs commonly occur in real world datasets)"
   ]
  },
  {
   "cell_type": "code",
   "execution_count": 0,
   "metadata": {
    "colab": {
     "base_uri": "https://localhost:8080/",
     "height": 35
    },
    "colab_type": "code",
    "id": "ppayGZxiW2wV",
    "outputId": "c6ee0628-4a33-4f4c-981e-f3cd9a016634"
   },
   "outputs": [
    {
     "data": {
      "text/plain": [
       "532"
      ]
     },
     "execution_count": 249,
     "metadata": {
      "tags": []
     },
     "output_type": "execute_result"
    }
   ],
   "source": [
    "diseng['ReactionTime'].isnull().sum()"
   ]
  },
  {
   "cell_type": "markdown",
   "metadata": {
    "colab_type": "text",
    "id": "g-MFRaELSAZl"
   },
   "source": [
    "## 3. Plot a pie chart for the causes of AV disengagement. Based on the pie-chart, list the top 2 leading causes of disengagement?"
   ]
  },
  {
   "cell_type": "code",
   "execution_count": 0,
   "metadata": {
    "colab": {
     "base_uri": "https://localhost:8080/",
     "height": 364
    },
    "colab_type": "code",
    "id": "0C-5kNfWfQkM",
    "outputId": "8b8f17bd-505d-43da-bc80-dddc2cd521ab"
   },
   "outputs": [
    {
     "data": {
      "text/plain": [
       "Text(0.5, 1.0, 'Causes of Disengagement')"
      ]
     },
     "execution_count": 6,
     "metadata": {
      "tags": []
     },
     "output_type": "execute_result"
    },
    {
     "data": {
      "image/png": "[encoded data removed]",
      "text/plain": [
       "<Figure size 576x396 with 1 Axes>"
      ]
     },
     "metadata": {
      "tags": []
     },
     "output_type": "display_data"
    }
   ],
   "source": [
    "series =pd.Series(diseng['Cause'].values).value_counts()\n",
    "ax = series.plot(kind='pie',title= 'Causes',autopct='%1.2f%%')\n",
    "ax.set_ylabel('')\n",
    "ax.set_title('Causes of Disengagement')"
   ]
  },
  {
   "cell_type": "code",
   "execution_count": 0,
   "metadata": {
    "colab": {
     "base_uri": "https://localhost:8080/",
     "height": 54
    },
    "colab_type": "code",
    "id": "-U3PuvC0sPl8",
    "outputId": "21f33c29-0641-4258-8b44-f9f5cfcb17dc"
   },
   "outputs": [
    {
     "name": "stdout",
     "output_type": "stream",
     "text": [
      "1st leading Cause of Disengagement: Unwanted Driver Discomfort\t Perecentage: 12.5%\n",
      "2nd leading Cause of Disengagement: Recklessly behaving agent\t Perecentage: 12.109375%\n"
     ]
    }
   ],
   "source": [
    "print(\"1st leading Cause of Disengagement: {0}\\t Perecentage: {1}%\".format(series.index[0],100*series[0]/sum(series)))\n",
    "print(\"2nd leading Cause of Disengagement: {0}\\t Perecentage: {1}%\".format(series.index[1],100*series[1]/sum(series)))"
   ]
  },
  {
   "cell_type": "markdown",
   "metadata": {
    "colab_type": "text",
    "id": "cQxuTim3SAZr"
   },
   "source": [
    "## 4. Visualize the trend of disengagement/mile over time with monthly granularity. How would you describe the trend? Are AV’s maturing over time?"
   ]
  },
  {
   "cell_type": "code",
   "execution_count": 7,
   "metadata": {
    "colab": {},
    "colab_type": "code",
    "id": "DXfNHMTzW2wn"
   },
   "outputs": [],
   "source": [
    "trend = t_miles.groupby('Month').sum().reset_index()\n",
    "trend['disengagement per mile'] = trend['total number of disengagements']/trend['miles driven in autonomous mode']"
   ]
  },
  {
   "cell_type": "code",
   "execution_count": 8,
   "metadata": {
    "colab": {
     "base_uri": "https://localhost:8080/",
     "height": 786
    },
    "colab_type": "code",
    "id": "OEJV0427mvLH",
    "outputId": "6f00d584-50a5-4e02-e35e-00908072506a"
   },
   "outputs": [
    {
     "data": {
      "text/html": [
       "<div>\n",
       "<style scoped>\n",
       "    .dataframe tbody tr th:only-of-type {\n",
       "        vertical-align: middle;\n",
       "    }\n",
       "\n",
       "    .dataframe tbody tr th {\n",
       "        vertical-align: top;\n",
       "    }\n",
       "\n",
       "    .dataframe thead th {\n",
       "        text-align: right;\n",
       "    }\n",
       "</style>\n",
       "<table border=\"1\" class=\"dataframe\">\n",
       "  <thead>\n",
       "    <tr style=\"text-align: right;\">\n",
       "      <th></th>\n",
       "      <th>Month</th>\n",
       "      <th>miles driven in autonomous mode</th>\n",
       "      <th>total number of disengagements</th>\n",
       "      <th>number of automatic disengagements</th>\n",
       "      <th>number of manual disengagements</th>\n",
       "      <th>disengagement per mile</th>\n",
       "    </tr>\n",
       "  </thead>\n",
       "  <tbody>\n",
       "    <tr>\n",
       "      <th>0</th>\n",
       "      <td>2014-09-01</td>\n",
       "      <td>4207</td>\n",
       "      <td>44</td>\n",
       "      <td>24</td>\n",
       "      <td>20</td>\n",
       "      <td>0.010459</td>\n",
       "    </tr>\n",
       "    <tr>\n",
       "      <th>1</th>\n",
       "      <td>2014-10-01</td>\n",
       "      <td>61881</td>\n",
       "      <td>244</td>\n",
       "      <td>111</td>\n",
       "      <td>133</td>\n",
       "      <td>0.003943</td>\n",
       "    </tr>\n",
       "    <tr>\n",
       "      <th>2</th>\n",
       "      <td>2014-11-01</td>\n",
       "      <td>58824</td>\n",
       "      <td>189</td>\n",
       "      <td>85</td>\n",
       "      <td>104</td>\n",
       "      <td>0.003213</td>\n",
       "    </tr>\n",
       "    <tr>\n",
       "      <th>3</th>\n",
       "      <td>2014-12-01</td>\n",
       "      <td>9413</td>\n",
       "      <td>36</td>\n",
       "      <td>15</td>\n",
       "      <td>21</td>\n",
       "      <td>0.003824</td>\n",
       "    </tr>\n",
       "    <tr>\n",
       "      <th>4</th>\n",
       "      <td>2015-01-01</td>\n",
       "      <td>18192</td>\n",
       "      <td>48</td>\n",
       "      <td>18</td>\n",
       "      <td>30</td>\n",
       "      <td>0.002639</td>\n",
       "    </tr>\n",
       "    <tr>\n",
       "      <th>5</th>\n",
       "      <td>2015-02-01</td>\n",
       "      <td>18745</td>\n",
       "      <td>16</td>\n",
       "      <td>8</td>\n",
       "      <td>8</td>\n",
       "      <td>0.000854</td>\n",
       "    </tr>\n",
       "    <tr>\n",
       "      <th>6</th>\n",
       "      <td>2015-03-01</td>\n",
       "      <td>22204</td>\n",
       "      <td>39</td>\n",
       "      <td>31</td>\n",
       "      <td>8</td>\n",
       "      <td>0.001756</td>\n",
       "    </tr>\n",
       "    <tr>\n",
       "      <th>7</th>\n",
       "      <td>2015-04-01</td>\n",
       "      <td>31927</td>\n",
       "      <td>72</td>\n",
       "      <td>51</td>\n",
       "      <td>21</td>\n",
       "      <td>0.002255</td>\n",
       "    </tr>\n",
       "    <tr>\n",
       "      <th>8</th>\n",
       "      <td>2015-05-01</td>\n",
       "      <td>38017</td>\n",
       "      <td>34</td>\n",
       "      <td>11</td>\n",
       "      <td>23</td>\n",
       "      <td>0.000894</td>\n",
       "    </tr>\n",
       "    <tr>\n",
       "      <th>9</th>\n",
       "      <td>2015-06-01</td>\n",
       "      <td>42047</td>\n",
       "      <td>127</td>\n",
       "      <td>58</td>\n",
       "      <td>69</td>\n",
       "      <td>0.003020</td>\n",
       "    </tr>\n",
       "    <tr>\n",
       "      <th>10</th>\n",
       "      <td>2015-07-01</td>\n",
       "      <td>34805</td>\n",
       "      <td>69</td>\n",
       "      <td>30</td>\n",
       "      <td>39</td>\n",
       "      <td>0.001982</td>\n",
       "    </tr>\n",
       "    <tr>\n",
       "      <th>11</th>\n",
       "      <td>2015-08-01</td>\n",
       "      <td>38220</td>\n",
       "      <td>24</td>\n",
       "      <td>13</td>\n",
       "      <td>11</td>\n",
       "      <td>0.000628</td>\n",
       "    </tr>\n",
       "    <tr>\n",
       "      <th>12</th>\n",
       "      <td>2015-09-01</td>\n",
       "      <td>36327</td>\n",
       "      <td>43</td>\n",
       "      <td>22</td>\n",
       "      <td>21</td>\n",
       "      <td>0.001184</td>\n",
       "    </tr>\n",
       "    <tr>\n",
       "      <th>13</th>\n",
       "      <td>2015-10-01</td>\n",
       "      <td>47144</td>\n",
       "      <td>17</td>\n",
       "      <td>5</td>\n",
       "      <td>12</td>\n",
       "      <td>0.000361</td>\n",
       "    </tr>\n",
       "    <tr>\n",
       "      <th>14</th>\n",
       "      <td>2015-11-01</td>\n",
       "      <td>43276</td>\n",
       "      <td>22</td>\n",
       "      <td>11</td>\n",
       "      <td>11</td>\n",
       "      <td>0.000508</td>\n",
       "    </tr>\n",
       "  </tbody>\n",
       "</table>\n",
       "</div>"
      ],
      "text/plain": [
       "        Month           ...            disengagement per mile\n",
       "0  2014-09-01           ...                          0.010459\n",
       "1  2014-10-01           ...                          0.003943\n",
       "2  2014-11-01           ...                          0.003213\n",
       "3  2014-12-01           ...                          0.003824\n",
       "4  2015-01-01           ...                          0.002639\n",
       "5  2015-02-01           ...                          0.000854\n",
       "6  2015-03-01           ...                          0.001756\n",
       "7  2015-04-01           ...                          0.002255\n",
       "8  2015-05-01           ...                          0.000894\n",
       "9  2015-06-01           ...                          0.003020\n",
       "10 2015-07-01           ...                          0.001982\n",
       "11 2015-08-01           ...                          0.000628\n",
       "12 2015-09-01           ...                          0.001184\n",
       "13 2015-10-01           ...                          0.000361\n",
       "14 2015-11-01           ...                          0.000508\n",
       "\n",
       "[15 rows x 6 columns]"
      ]
     },
     "execution_count": 8,
     "metadata": {},
     "output_type": "execute_result"
    }
   ],
   "source": [
    "trend"
   ]
  },
  {
   "cell_type": "code",
   "execution_count": 13,
   "metadata": {
    "colab": {
     "base_uri": "https://localhost:8080/",
     "height": 467
    },
    "colab_type": "code",
    "id": "-iRm_fAzW2wv",
    "outputId": "dd7787d6-4644-403e-b987-7f6f75717c82"
   },
   "outputs": [
    {
     "data": {
      "application/javascript": [
       "/* Put everything inside the global mpl namespace */\n",
       "window.mpl = {};\n",
       "\n",
       "\n",
       "mpl.get_websocket_type = function() {\n",
       "    if (typeof(WebSocket) !== 'undefined') {\n",
       "        return WebSocket;\n",
       "    } else if (typeof(MozWebSocket) !== 'undefined') {\n",
       "        return MozWebSocket;\n",
       "    } else {\n",
       "        alert('Your browser does not have WebSocket support.' +\n",
       "              'Please try Chrome, Safari or Firefox ≥ 6. ' +\n",
       "              'Firefox 4 and 5 are also supported but you ' +\n",
       "              'have to enable WebSockets in about:config.');\n",
       "    };\n",
       "}\n",
       "\n",
       "mpl.figure = function(figure_id, websocket, ondownload, parent_element) {\n",
       "    this.id = figure_id;\n",
       "\n",
       "    this.ws = websocket;\n",
       "\n",
       "    this.supports_binary = (this.ws.binaryType != undefined);\n",
       "\n",
       "    if (!this.supports_binary) {\n",
       "        var warnings = document.getElementById(\"mpl-warnings\");\n",
       "        if (warnings) {\n",
       "            warnings.style.display = 'block';\n",
       "            warnings.textContent = (\n",
       "                \"This browser does not support binary websocket messages. \" +\n",
       "                    \"Performance may be slow.\");\n",
       "        }\n",
       "    }\n",
       "\n",
       "    this.imageObj = new Image();\n",
       "\n",
       "    this.context = undefined;\n",
       "    this.message = undefined;\n",
       "    this.canvas = undefined;\n",
       "    this.rubberband_canvas = undefined;\n",
       "    this.rubberband_context = undefined;\n",
       "    this.format_dropdown = undefined;\n",
       "\n",
       "    this.image_mode = 'full';\n",
       "\n",
       "    this.root = $('<div/>');\n",
       "    this._root_extra_style(this.root)\n",
       "    this.root.attr('style', 'display: inline-block');\n",
       "\n",
       "    $(parent_element).append(this.root);\n",
       "\n",
       "    this._init_header(this);\n",
       "    this._init_canvas(this);\n",
       "    this._init_toolbar(this);\n",
       "\n",
       "    var fig = this;\n",
       "\n",
       "    this.waiting = false;\n",
       "\n",
       "    this.ws.onopen =  function () {\n",
       "            fig.send_message(\"supports_binary\", {value: fig.supports_binary});\n",
       "            fig.send_message(\"send_image_mode\", {});\n",
       "            if (mpl.ratio != 1) {\n",
       "                fig.send_message(\"set_dpi_ratio\", {'dpi_ratio': mpl.ratio});\n",
       "            }\n",
       "            fig.send_message(\"refresh\", {});\n",
       "        }\n",
       "\n",
       "    this.imageObj.onload = function() {\n",
       "            if (fig.image_mode == 'full') {\n",
       "                // Full images could contain transparency (where diff images\n",
       "                // almost always do), so we need to clear the canvas so that\n",
       "                // there is no ghosting.\n",
       "                fig.context.clearRect(0, 0, fig.canvas.width, fig.canvas.height);\n",
       "            }\n",
       "            fig.context.drawImage(fig.imageObj, 0, 0);\n",
       "        };\n",
       "\n",
       "    this.imageObj.onunload = function() {\n",
       "        fig.ws.close();\n",
       "    }\n",
       "\n",
       "    this.ws.onmessage = this._make_on_message_function(this);\n",
       "\n",
       "    this.ondownload = ondownload;\n",
       "}\n",
       "\n",
       "mpl.figure.prototype._init_header = function() {\n",
       "    var titlebar = $(\n",
       "        '<div class=\"ui-dialog-titlebar ui-widget-header ui-corner-all ' +\n",
       "        'ui-helper-clearfix\"/>');\n",
       "    var titletext = $(\n",
       "        '<div class=\"ui-dialog-title\" style=\"width: 100%; ' +\n",
       "        'text-align: center; padding: 3px;\"/>');\n",
       "    titlebar.append(titletext)\n",
       "    this.root.append(titlebar);\n",
       "    this.header = titletext[0];\n",
       "}\n",
       "\n",
       "\n",
       "\n",
       "mpl.figure.prototype._canvas_extra_style = function(canvas_div) {\n",
       "\n",
       "}\n",
       "\n",
       "\n",
       "mpl.figure.prototype._root_extra_style = function(canvas_div) {\n",
       "\n",
       "}\n",
       "\n",
       "mpl.figure.prototype._init_canvas = function() {\n",
       "    var fig = this;\n",
       "\n",
       "    var canvas_div = $('<div/>');\n",
       "\n",
       "    canvas_div.attr('style', 'position: relative; clear: both; outline: 0');\n",
       "\n",
       "    function canvas_keyboard_event(event) {\n",
       "        return fig.key_event(event, event['data']);\n",
       "    }\n",
       "\n",
       "    canvas_div.keydown('key_press', canvas_keyboard_event);\n",
       "    canvas_div.keyup('key_release', canvas_keyboard_event);\n",
       "    this.canvas_div = canvas_div\n",
       "    this._canvas_extra_style(canvas_div)\n",
       "    this.root.append(canvas_div);\n",
       "\n",
       "    var canvas = $('<canvas/>');\n",
       "    canvas.addClass('mpl-canvas');\n",
       "    canvas.attr('style', \"left: 0; top: 0; z-index: 0; outline: 0\")\n",
       "\n",
       "    this.canvas = canvas[0];\n",
       "    this.context = canvas[0].getContext(\"2d\");\n",
       "\n",
       "    var backingStore = this.context.backingStorePixelRatio ||\n",
       "\tthis.context.webkitBackingStorePixelRatio ||\n",
       "\tthis.context.mozBackingStorePixelRatio ||\n",
       "\tthis.context.msBackingStorePixelRatio ||\n",
       "\tthis.context.oBackingStorePixelRatio ||\n",
       "\tthis.context.backingStorePixelRatio || 1;\n",
       "\n",
       "    mpl.ratio = (window.devicePixelRatio || 1) / backingStore;\n",
       "\n",
       "    var rubberband = $('<canvas/>');\n",
       "    rubberband.attr('style', \"position: absolute; left: 0; top: 0; z-index: 1;\")\n",
       "\n",
       "    var pass_mouse_events = true;\n",
       "\n",
       "    canvas_div.resizable({\n",
       "        start: function(event, ui) {\n",
       "            pass_mouse_events = false;\n",
       "        },\n",
       "        resize: function(event, ui) {\n",
       "            fig.request_resize(ui.size.width, ui.size.height);\n",
       "        },\n",
       "        stop: function(event, ui) {\n",
       "            pass_mouse_events = true;\n",
       "            fig.request_resize(ui.size.width, ui.size.height);\n",
       "        },\n",
       "    });\n",
       "\n",
       "    function mouse_event_fn(event) {\n",
       "        if (pass_mouse_events)\n",
       "            return fig.mouse_event(event, event['data']);\n",
       "    }\n",
       "\n",
       "    rubberband.mousedown('button_press', mouse_event_fn);\n",
       "    rubberband.mouseup('button_release', mouse_event_fn);\n",
       "    // Throttle sequential mouse events to 1 every 20ms.\n",
       "    rubberband.mousemove('motion_notify', mouse_event_fn);\n",
       "\n",
       "    rubberband.mouseenter('figure_enter', mouse_event_fn);\n",
       "    rubberband.mouseleave('figure_leave', mouse_event_fn);\n",
       "\n",
       "    canvas_div.on(\"wheel\", function (event) {\n",
       "        event = event.originalEvent;\n",
       "        event['data'] = 'scroll'\n",
       "        if (event.deltaY < 0) {\n",
       "            event.step = 1;\n",
       "        } else {\n",
       "            event.step = -1;\n",
       "        }\n",
       "        mouse_event_fn(event);\n",
       "    });\n",
       "\n",
       "    canvas_div.append(canvas);\n",
       "    canvas_div.append(rubberband);\n",
       "\n",
       "    this.rubberband = rubberband;\n",
       "    this.rubberband_canvas = rubberband[0];\n",
       "    this.rubberband_context = rubberband[0].getContext(\"2d\");\n",
       "    this.rubberband_context.strokeStyle = \"#000000\";\n",
       "\n",
       "    this._resize_canvas = function(width, height) {\n",
       "        // Keep the size of the canvas, canvas container, and rubber band\n",
       "        // canvas in synch.\n",
       "        canvas_div.css('width', width)\n",
       "        canvas_div.css('height', height)\n",
       "\n",
       "        canvas.attr('width', width * mpl.ratio);\n",
       "        canvas.attr('height', height * mpl.ratio);\n",
       "        canvas.attr('style', 'width: ' + width + 'px; height: ' + height + 'px;');\n",
       "\n",
       "        rubberband.attr('width', width);\n",
       "        rubberband.attr('height', height);\n",
       "    }\n",
       "\n",
       "    // Set the figure to an initial 600x600px, this will subsequently be updated\n",
       "    // upon first draw.\n",
       "    this._resize_canvas(600, 600);\n",
       "\n",
       "    // Disable right mouse context menu.\n",
       "    $(this.rubberband_canvas).bind(\"contextmenu\",function(e){\n",
       "        return false;\n",
       "    });\n",
       "\n",
       "    function set_focus () {\n",
       "        canvas.focus();\n",
       "        canvas_div.focus();\n",
       "    }\n",
       "\n",
       "    window.setTimeout(set_focus, 100);\n",
       "}\n",
       "\n",
       "mpl.figure.prototype._init_toolbar = function() {\n",
       "    var fig = this;\n",
       "\n",
       "    var nav_element = $('<div/>')\n",
       "    nav_element.attr('style', 'width: 100%');\n",
       "    this.root.append(nav_element);\n",
       "\n",
       "    // Define a callback function for later on.\n",
       "    function toolbar_event(event) {\n",
       "        return fig.toolbar_button_onclick(event['data']);\n",
       "    }\n",
       "    function toolbar_mouse_event(event) {\n",
       "        return fig.toolbar_button_onmouseover(event['data']);\n",
       "    }\n",
       "\n",
       "    for(var toolbar_ind in mpl.toolbar_items) {\n",
       "        var name = mpl.toolbar_items[toolbar_ind][0];\n",
       "        var tooltip = mpl.toolbar_items[toolbar_ind][1];\n",
       "        var image = mpl.toolbar_items[toolbar_ind][2];\n",
       "        var method_name = mpl.toolbar_items[toolbar_ind][3];\n",
       "\n",
       "        if (!name) {\n",
       "            // put a spacer in here.\n",
       "            continue;\n",
       "        }\n",
       "        var button = $('<button/>');\n",
       "        button.addClass('ui-button ui-widget ui-state-default ui-corner-all ' +\n",
       "                        'ui-button-icon-only');\n",
       "        button.attr('role', 'button');\n",
       "        button.attr('aria-disabled', 'false');\n",
       "        button.click(method_name, toolbar_event);\n",
       "        button.mouseover(tooltip, toolbar_mouse_event);\n",
       "\n",
       "        var icon_img = $('<span/>');\n",
       "        icon_img.addClass('ui-button-icon-primary ui-icon');\n",
       "        icon_img.addClass(image);\n",
       "        icon_img.addClass('ui-corner-all');\n",
       "\n",
       "        var tooltip_span = $('<span/>');\n",
       "        tooltip_span.addClass('ui-button-text');\n",
       "        tooltip_span.html(tooltip);\n",
       "\n",
       "        button.append(icon_img);\n",
       "        button.append(tooltip_span);\n",
       "\n",
       "        nav_element.append(button);\n",
       "    }\n",
       "\n",
       "    var fmt_picker_span = $('<span/>');\n",
       "\n",
       "    var fmt_picker = $('<select/>');\n",
       "    fmt_picker.addClass('mpl-toolbar-option ui-widget ui-widget-content');\n",
       "    fmt_picker_span.append(fmt_picker);\n",
       "    nav_element.append(fmt_picker_span);\n",
       "    this.format_dropdown = fmt_picker[0];\n",
       "\n",
       "    for (var ind in mpl.extensions) {\n",
       "        var fmt = mpl.extensions[ind];\n",
       "        var option = $(\n",
       "            '<option/>', {selected: fmt === mpl.default_extension}).html(fmt);\n",
       "        fmt_picker.append(option)\n",
       "    }\n",
       "\n",
       "    // Add hover states to the ui-buttons\n",
       "    $( \".ui-button\" ).hover(\n",
       "        function() { $(this).addClass(\"ui-state-hover\");},\n",
       "        function() { $(this).removeClass(\"ui-state-hover\");}\n",
       "    );\n",
       "\n",
       "    var status_bar = $('<span class=\"mpl-message\"/>');\n",
       "    nav_element.append(status_bar);\n",
       "    this.message = status_bar[0];\n",
       "}\n",
       "\n",
       "mpl.figure.prototype.request_resize = function(x_pixels, y_pixels) {\n",
       "    // Request matplotlib to resize the figure. Matplotlib will then trigger a resize in the client,\n",
       "    // which will in turn request a refresh of the image.\n",
       "    this.send_message('resize', {'width': x_pixels, 'height': y_pixels});\n",
       "}\n",
       "\n",
       "mpl.figure.prototype.send_message = function(type, properties) {\n",
       "    properties['type'] = type;\n",
       "    properties['figure_id'] = this.id;\n",
       "    this.ws.send(JSON.stringify(properties));\n",
       "}\n",
       "\n",
       "mpl.figure.prototype.send_draw_message = function() {\n",
       "    if (!this.waiting) {\n",
       "        this.waiting = true;\n",
       "        this.ws.send(JSON.stringify({type: \"draw\", figure_id: this.id}));\n",
       "    }\n",
       "}\n",
       "\n",
       "\n",
       "mpl.figure.prototype.handle_save = function(fig, msg) {\n",
       "    var format_dropdown = fig.format_dropdown;\n",
       "    var format = format_dropdown.options[format_dropdown.selectedIndex].value;\n",
       "    fig.ondownload(fig, format);\n",
       "}\n",
       "\n",
       "\n",
       "mpl.figure.prototype.handle_resize = function(fig, msg) {\n",
       "    var size = msg['size'];\n",
       "    if (size[0] != fig.canvas.width || size[1] != fig.canvas.height) {\n",
       "        fig._resize_canvas(size[0], size[1]);\n",
       "        fig.send_message(\"refresh\", {});\n",
       "    };\n",
       "}\n",
       "\n",
       "mpl.figure.prototype.handle_rubberband = function(fig, msg) {\n",
       "    var x0 = msg['x0'] / mpl.ratio;\n",
       "    var y0 = (fig.canvas.height - msg['y0']) / mpl.ratio;\n",
       "    var x1 = msg['x1'] / mpl.ratio;\n",
       "    var y1 = (fig.canvas.height - msg['y1']) / mpl.ratio;\n",
       "    x0 = Math.floor(x0) + 0.5;\n",
       "    y0 = Math.floor(y0) + 0.5;\n",
       "    x1 = Math.floor(x1) + 0.5;\n",
       "    y1 = Math.floor(y1) + 0.5;\n",
       "    var min_x = Math.min(x0, x1);\n",
       "    var min_y = Math.min(y0, y1);\n",
       "    var width = Math.abs(x1 - x0);\n",
       "    var height = Math.abs(y1 - y0);\n",
       "\n",
       "    fig.rubberband_context.clearRect(\n",
       "        0, 0, fig.canvas.width, fig.canvas.height);\n",
       "\n",
       "    fig.rubberband_context.strokeRect(min_x, min_y, width, height);\n",
       "}\n",
       "\n",
       "mpl.figure.prototype.handle_figure_label = function(fig, msg) {\n",
       "    // Updates the figure title.\n",
       "    fig.header.textContent = msg['label'];\n",
       "}\n",
       "\n",
       "mpl.figure.prototype.handle_cursor = function(fig, msg) {\n",
       "    var cursor = msg['cursor'];\n",
       "    switch(cursor)\n",
       "    {\n",
       "    case 0:\n",
       "        cursor = 'pointer';\n",
       "        break;\n",
       "    case 1:\n",
       "        cursor = 'default';\n",
       "        break;\n",
       "    case 2:\n",
       "        cursor = 'crosshair';\n",
       "        break;\n",
       "    case 3:\n",
       "        cursor = 'move';\n",
       "        break;\n",
       "    }\n",
       "    fig.rubberband_canvas.style.cursor = cursor;\n",
       "}\n",
       "\n",
       "mpl.figure.prototype.handle_message = function(fig, msg) {\n",
       "    fig.message.textContent = msg['message'];\n",
       "}\n",
       "\n",
       "mpl.figure.prototype.handle_draw = function(fig, msg) {\n",
       "    // Request the server to send over a new figure.\n",
       "    fig.send_draw_message();\n",
       "}\n",
       "\n",
       "mpl.figure.prototype.handle_image_mode = function(fig, msg) {\n",
       "    fig.image_mode = msg['mode'];\n",
       "}\n",
       "\n",
       "mpl.figure.prototype.updated_canvas_event = function() {\n",
       "    // Called whenever the canvas gets updated.\n",
       "    this.send_message(\"ack\", {});\n",
       "}\n",
       "\n",
       "// A function to construct a web socket function for onmessage handling.\n",
       "// Called in the figure constructor.\n",
       "mpl.figure.prototype._make_on_message_function = function(fig) {\n",
       "    return function socket_on_message(evt) {\n",
       "        if (evt.data instanceof Blob) {\n",
       "            /* FIXME: We get \"Resource interpreted as Image but\n",
       "             * transferred with MIME type text/plain:\" errors on\n",
       "             * Chrome.  But how to set the MIME type?  It doesn't seem\n",
       "             * to be part of the websocket stream */\n",
       "            evt.data.type = \"image/png\";\n",
       "\n",
       "            /* Free the memory for the previous frames */\n",
       "            if (fig.imageObj.src) {\n",
       "                (window.URL || window.webkitURL).revokeObjectURL(\n",
       "                    fig.imageObj.src);\n",
       "            }\n",
       "\n",
       "            fig.imageObj.src = (window.URL || window.webkitURL).createObjectURL(\n",
       "                evt.data);\n",
       "            fig.updated_canvas_event();\n",
       "            fig.waiting = false;\n",
       "            return;\n",
       "        }\n",
       "        else if (typeof evt.data === 'string' && evt.data.slice(0, 21) == \"data:image/png;base64\") {\n",
       "            fig.imageObj.src = evt.data;\n",
       "            fig.updated_canvas_event();\n",
       "            fig.waiting = false;\n",
       "            return;\n",
       "        }\n",
       "\n",
       "        var msg = JSON.parse(evt.data);\n",
       "        var msg_type = msg['type'];\n",
       "\n",
       "        // Call the  \"handle_{type}\" callback, which takes\n",
       "        // the figure and JSON message as its only arguments.\n",
       "        try {\n",
       "            var callback = fig[\"handle_\" + msg_type];\n",
       "        } catch (e) {\n",
       "            console.log(\"No handler for the '\" + msg_type + \"' message type: \", msg);\n",
       "            return;\n",
       "        }\n",
       "\n",
       "        if (callback) {\n",
       "            try {\n",
       "                // console.log(\"Handling '\" + msg_type + \"' message: \", msg);\n",
       "                callback(fig, msg);\n",
       "            } catch (e) {\n",
       "                console.log(\"Exception inside the 'handler_\" + msg_type + \"' callback:\", e, e.stack, msg);\n",
       "            }\n",
       "        }\n",
       "    };\n",
       "}\n",
       "\n",
       "// from http://stackoverflow.com/questions/1114465/getting-mouse-location-in-canvas\n",
       "mpl.findpos = function(e) {\n",
       "    //this section is from http://www.quirksmode.org/js/events_properties.html\n",
       "    var targ;\n",
       "    if (!e)\n",
       "        e = window.event;\n",
       "    if (e.target)\n",
       "        targ = e.target;\n",
       "    else if (e.srcElement)\n",
       "        targ = e.srcElement;\n",
       "    if (targ.nodeType == 3) // defeat Safari bug\n",
       "        targ = targ.parentNode;\n",
       "\n",
       "    // jQuery normalizes the pageX and pageY\n",
       "    // pageX,Y are the mouse positions relative to the document\n",
       "    // offset() returns the position of the element relative to the document\n",
       "    var x = e.pageX - $(targ).offset().left;\n",
       "    var y = e.pageY - $(targ).offset().top;\n",
       "\n",
       "    return {\"x\": x, \"y\": y};\n",
       "};\n",
       "\n",
       "/*\n",
       " * return a copy of an object with only non-object keys\n",
       " * we need this to avoid circular references\n",
       " * http://stackoverflow.com/a/24161582/3208463\n",
       " */\n",
       "function simpleKeys (original) {\n",
       "  return Object.keys(original).reduce(function (obj, key) {\n",
       "    if (typeof original[key] !== 'object')\n",
       "        obj[key] = original[key]\n",
       "    return obj;\n",
       "  }, {});\n",
       "}\n",
       "\n",
       "mpl.figure.prototype.mouse_event = function(event, name) {\n",
       "    var canvas_pos = mpl.findpos(event)\n",
       "\n",
       "    if (name === 'button_press')\n",
       "    {\n",
       "        this.canvas.focus();\n",
       "        this.canvas_div.focus();\n",
       "    }\n",
       "\n",
       "    var x = canvas_pos.x * mpl.ratio;\n",
       "    var y = canvas_pos.y * mpl.ratio;\n",
       "\n",
       "    this.send_message(name, {x: x, y: y, button: event.button,\n",
       "                             step: event.step,\n",
       "                             guiEvent: simpleKeys(event)});\n",
       "\n",
       "    /* This prevents the web browser from automatically changing to\n",
       "     * the text insertion cursor when the button is pressed.  We want\n",
       "     * to control all of the cursor setting manually through the\n",
       "     * 'cursor' event from matplotlib */\n",
       "    event.preventDefault();\n",
       "    return false;\n",
       "}\n",
       "\n",
       "mpl.figure.prototype._key_event_extra = function(event, name) {\n",
       "    // Handle any extra behaviour associated with a key event\n",
       "}\n",
       "\n",
       "mpl.figure.prototype.key_event = function(event, name) {\n",
       "\n",
       "    // Prevent repeat events\n",
       "    if (name == 'key_press')\n",
       "    {\n",
       "        if (event.which === this._key)\n",
       "            return;\n",
       "        else\n",
       "            this._key = event.which;\n",
       "    }\n",
       "    if (name == 'key_release')\n",
       "        this._key = null;\n",
       "\n",
       "    var value = '';\n",
       "    if (event.ctrlKey && event.which != 17)\n",
       "        value += \"ctrl+\";\n",
       "    if (event.altKey && event.which != 18)\n",
       "        value += \"alt+\";\n",
       "    if (event.shiftKey && event.which != 16)\n",
       "        value += \"shift+\";\n",
       "\n",
       "    value += 'k';\n",
       "    value += event.which.toString();\n",
       "\n",
       "    this._key_event_extra(event, name);\n",
       "\n",
       "    this.send_message(name, {key: value,\n",
       "                             guiEvent: simpleKeys(event)});\n",
       "    return false;\n",
       "}\n",
       "\n",
       "mpl.figure.prototype.toolbar_button_onclick = function(name) {\n",
       "    if (name == 'download') {\n",
       "        this.handle_save(this, null);\n",
       "    } else {\n",
       "        this.send_message(\"toolbar_button\", {name: name});\n",
       "    }\n",
       "};\n",
       "\n",
       "mpl.figure.prototype.toolbar_button_onmouseover = function(tooltip) {\n",
       "    this.message.textContent = tooltip;\n",
       "};\n",
       "mpl.toolbar_items = [[\"Home\", \"Reset original view\", \"fa fa-home icon-home\", \"home\"], [\"Back\", \"Back to previous view\", \"fa fa-arrow-left icon-arrow-left\", \"back\"], [\"Forward\", \"Forward to next view\", \"fa fa-arrow-right icon-arrow-right\", \"forward\"], [\"\", \"\", \"\", \"\"], [\"Pan\", \"Pan axes with left mouse, zoom with right\", \"fa fa-arrows icon-move\", \"pan\"], [\"Zoom\", \"Zoom to rectangle\", \"fa fa-square-o icon-check-empty\", \"zoom\"], [\"\", \"\", \"\", \"\"], [\"Download\", \"Download plot\", \"fa fa-floppy-o icon-save\", \"download\"]];\n",
       "\n",
       "mpl.extensions = [\"eps\", \"jpeg\", \"pdf\", \"png\", \"ps\", \"raw\", \"svg\", \"tif\"];\n",
       "\n",
       "mpl.default_extension = \"png\";var comm_websocket_adapter = function(comm) {\n",
       "    // Create a \"websocket\"-like object which calls the given IPython comm\n",
       "    // object with the appropriate methods. Currently this is a non binary\n",
       "    // socket, so there is still some room for performance tuning.\n",
       "    var ws = {};\n",
       "\n",
       "    ws.close = function() {\n",
       "        comm.close()\n",
       "    };\n",
       "    ws.send = function(m) {\n",
       "        //console.log('sending', m);\n",
       "        comm.send(m);\n",
       "    };\n",
       "    // Register the callback with on_msg.\n",
       "    comm.on_msg(function(msg) {\n",
       "        //console.log('receiving', msg['content']['data'], msg);\n",
       "        // Pass the mpl event to the overridden (by mpl) onmessage function.\n",
       "        ws.onmessage(msg['content']['data'])\n",
       "    });\n",
       "    return ws;\n",
       "}\n",
       "\n",
       "mpl.mpl_figure_comm = function(comm, msg) {\n",
       "    // This is the function which gets called when the mpl process\n",
       "    // starts-up an IPython Comm through the \"matplotlib\" channel.\n",
       "\n",
       "    var id = msg.content.data.id;\n",
       "    // Get hold of the div created by the display call when the Comm\n",
       "    // socket was opened in Python.\n",
       "    var element = $(\"#\" + id);\n",
       "    var ws_proxy = comm_websocket_adapter(comm)\n",
       "\n",
       "    function ondownload(figure, format) {\n",
       "        window.open(figure.imageObj.src);\n",
       "    }\n",
       "\n",
       "    var fig = new mpl.figure(id, ws_proxy,\n",
       "                           ondownload,\n",
       "                           element.get(0));\n",
       "\n",
       "    // Call onopen now - mpl needs it, as it is assuming we've passed it a real\n",
       "    // web socket which is closed, not our websocket->open comm proxy.\n",
       "    ws_proxy.onopen();\n",
       "\n",
       "    fig.parent_element = element.get(0);\n",
       "    fig.cell_info = mpl.find_output_cell(\"<div id='\" + id + \"'></div>\");\n",
       "    if (!fig.cell_info) {\n",
       "        console.error(\"Failed to find cell for figure\", id, fig);\n",
       "        return;\n",
       "    }\n",
       "\n",
       "    var output_index = fig.cell_info[2]\n",
       "    var cell = fig.cell_info[0];\n",
       "\n",
       "};\n",
       "\n",
       "mpl.figure.prototype.handle_close = function(fig, msg) {\n",
       "    var width = fig.canvas.width/mpl.ratio\n",
       "    fig.root.unbind('remove')\n",
       "\n",
       "    // Update the output cell to use the data from the current canvas.\n",
       "    fig.push_to_output();\n",
       "    var dataURL = fig.canvas.toDataURL();\n",
       "    // Re-enable the keyboard manager in IPython - without this line, in FF,\n",
       "    // the notebook keyboard shortcuts fail.\n",
       "    IPython.keyboard_manager.enable()\n",
       "    $(fig.parent_element).html('<img src=\"' + dataURL + '\" width=\"' + width + '\">');\n",
       "    fig.close_ws(fig, msg);\n",
       "}\n",
       "\n",
       "mpl.figure.prototype.close_ws = function(fig, msg){\n",
       "    fig.send_message('closing', msg);\n",
       "    // fig.ws.close()\n",
       "}\n",
       "\n",
       "mpl.figure.prototype.push_to_output = function(remove_interactive) {\n",
       "    // Turn the data on the canvas into data in the output cell.\n",
       "    var width = this.canvas.width/mpl.ratio\n",
       "    var dataURL = this.canvas.toDataURL();\n",
       "    this.cell_info[1]['text/html'] = '<img src=\"' + dataURL + '\" width=\"' + width + '\">';\n",
       "}\n",
       "\n",
       "mpl.figure.prototype.updated_canvas_event = function() {\n",
       "    // Tell IPython that the notebook contents must change.\n",
       "    IPython.notebook.set_dirty(true);\n",
       "    this.send_message(\"ack\", {});\n",
       "    var fig = this;\n",
       "    // Wait a second, then push the new image to the DOM so\n",
       "    // that it is saved nicely (might be nice to debounce this).\n",
       "    setTimeout(function () { fig.push_to_output() }, 1000);\n",
       "}\n",
       "\n",
       "mpl.figure.prototype._init_toolbar = function() {\n",
       "    var fig = this;\n",
       "\n",
       "    var nav_element = $('<div/>')\n",
       "    nav_element.attr('style', 'width: 100%');\n",
       "    this.root.append(nav_element);\n",
       "\n",
       "    // Define a callback function for later on.\n",
       "    function toolbar_event(event) {\n",
       "        return fig.toolbar_button_onclick(event['data']);\n",
       "    }\n",
       "    function toolbar_mouse_event(event) {\n",
       "        return fig.toolbar_button_onmouseover(event['data']);\n",
       "    }\n",
       "\n",
       "    for(var toolbar_ind in mpl.toolbar_items){\n",
       "        var name = mpl.toolbar_items[toolbar_ind][0];\n",
       "        var tooltip = mpl.toolbar_items[toolbar_ind][1];\n",
       "        var image = mpl.toolbar_items[toolbar_ind][2];\n",
       "        var method_name = mpl.toolbar_items[toolbar_ind][3];\n",
       "\n",
       "        if (!name) { continue; };\n",
       "\n",
       "        var button = $('<button class=\"btn btn-default\" href=\"#\" title=\"' + name + '\"><i class=\"fa ' + image + ' fa-lg\"></i></button>');\n",
       "        button.click(method_name, toolbar_event);\n",
       "        button.mouseover(tooltip, toolbar_mouse_event);\n",
       "        nav_element.append(button);\n",
       "    }\n",
       "\n",
       "    // Add the status bar.\n",
       "    var status_bar = $('<span class=\"mpl-message\" style=\"text-align:right; float: right;\"/>');\n",
       "    nav_element.append(status_bar);\n",
       "    this.message = status_bar[0];\n",
       "\n",
       "    // Add the close button to the window.\n",
       "    var buttongrp = $('<div class=\"btn-group inline pull-right\"></div>');\n",
       "    var button = $('<button class=\"btn btn-mini btn-primary\" href=\"#\" title=\"Stop Interaction\"><i class=\"fa fa-power-off icon-remove icon-large\"></i></button>');\n",
       "    button.click(function (evt) { fig.handle_close(fig, {}); } );\n",
       "    button.mouseover('Stop Interaction', toolbar_mouse_event);\n",
       "    buttongrp.append(button);\n",
       "    var titlebar = this.root.find($('.ui-dialog-titlebar'));\n",
       "    titlebar.prepend(buttongrp);\n",
       "}\n",
       "\n",
       "mpl.figure.prototype._root_extra_style = function(el){\n",
       "    var fig = this\n",
       "    el.on(\"remove\", function(){\n",
       "\tfig.close_ws(fig, {});\n",
       "    });\n",
       "}\n",
       "\n",
       "mpl.figure.prototype._canvas_extra_style = function(el){\n",
       "    // this is important to make the div 'focusable\n",
       "    el.attr('tabindex', 0)\n",
       "    // reach out to IPython and tell the keyboard manager to turn it's self\n",
       "    // off when our div gets focus\n",
       "\n",
       "    // location in version 3\n",
       "    if (IPython.notebook.keyboard_manager) {\n",
       "        IPython.notebook.keyboard_manager.register_events(el);\n",
       "    }\n",
       "    else {\n",
       "        // location in version 2\n",
       "        IPython.keyboard_manager.register_events(el);\n",
       "    }\n",
       "\n",
       "}\n",
       "\n",
       "mpl.figure.prototype._key_event_extra = function(event, name) {\n",
       "    var manager = IPython.notebook.keyboard_manager;\n",
       "    if (!manager)\n",
       "        manager = IPython.keyboard_manager;\n",
       "\n",
       "    // Check for shift+enter\n",
       "    if (event.shiftKey && event.which == 13) {\n",
       "        this.canvas_div.blur();\n",
       "        event.shiftKey = false;\n",
       "        // Send a \"J\" for go to next cell\n",
       "        event.which = 74;\n",
       "        event.keyCode = 74;\n",
       "        manager.command_mode();\n",
       "        manager.handle_keydown(event);\n",
       "    }\n",
       "}\n",
       "\n",
       "mpl.figure.prototype.handle_save = function(fig, msg) {\n",
       "    fig.ondownload(fig, null);\n",
       "}\n",
       "\n",
       "\n",
       "mpl.find_output_cell = function(html_output) {\n",
       "    // Return the cell and output element which can be found *uniquely* in the notebook.\n",
       "    // Note - this is a bit hacky, but it is done because the \"notebook_saving.Notebook\"\n",
       "    // IPython event is triggered only after the cells have been serialised, which for\n",
       "    // our purposes (turning an active figure into a static one), is too late.\n",
       "    var cells = IPython.notebook.get_cells();\n",
       "    var ncells = cells.length;\n",
       "    for (var i=0; i<ncells; i++) {\n",
       "        var cell = cells[i];\n",
       "        if (cell.cell_type === 'code'){\n",
       "            for (var j=0; j<cell.output_area.outputs.length; j++) {\n",
       "                var data = cell.output_area.outputs[j];\n",
       "                if (data.data) {\n",
       "                    // IPython >= 3 moved mimebundle to data attribute of output\n",
       "                    data = data.data;\n",
       "                }\n",
       "                if (data['text/html'] == html_output) {\n",
       "                    return [cell, data, j];\n",
       "                }\n",
       "            }\n",
       "        }\n",
       "    }\n",
       "}\n",
       "\n",
       "// Register the function which deals with the matplotlib target/channel.\n",
       "// The kernel may be null if the page has been refreshed.\n",
       "if (IPython.notebook.kernel != null) {\n",
       "    IPython.notebook.kernel.comm_manager.register_target('matplotlib', mpl.mpl_figure_comm);\n",
       "}\n"
      ],
      "text/plain": [
       "<IPython.core.display.Javascript object>"
      ]
     },
     "metadata": {},
     "output_type": "display_data"
    },
    {
     "data": {
      "text/html": [
       "<img src=\"data:image/png;base64,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\" width=\"720\">"
      ],
      "text/plain": [
       "<IPython.core.display.HTML object>"
      ]
     },
     "metadata": {},
     "output_type": "display_data"
    },
    {
     "data": {
      "text/plain": [
       "Text(0, 0.5, 'disengagement per mile')"
      ]
     },
     "execution_count": 13,
     "metadata": {},
     "output_type": "execute_result"
    }
   ],
   "source": [
    "ax = trend.plot(x='Month',y='disengagement per mile',figsize=(10,5), linewidth=5, fontsize=20,legend=False)\n",
    "ax.set_title('Trend of Disengagement per Mile', fontsize=20)\n",
    "ax.set_xlabel('Time (month)', fontsize=20)\n",
    "ax.set_ylabel('disengagement per mile', fontsize=20)"
   ]
  },
  {
   "cell_type": "markdown",
   "metadata": {
    "colab_type": "text",
    "id": "rHn-tIa0W2wz"
   },
   "source": [
    "It can be seen that there is a decreasing trend in disengagements per mile. That means that autonomous vehicles are improving with time."
   ]
  },
  {
   "cell_type": "markdown",
   "metadata": {
    "colab_type": "text",
    "id": "12tb2yjGSAZ1"
   },
   "source": [
    "# Task 1 – Basic Analysis of AV Disengagements"
   ]
  },
  {
   "cell_type": "markdown",
   "metadata": {
    "colab_type": "text",
    "id": "kWFzasEaSAZ4"
   },
   "source": [
    "## 1. What do the following distributions signify about samples drawn from it"
   ]
  },
  {
   "cell_type": "markdown",
   "metadata": {
    "colab_type": "text",
    "id": "eLqafD48SAaA"
   },
   "source": [
    "### a. Gaussian distribution"
   ]
  },
  {
   "cell_type": "markdown",
   "metadata": {
    "colab_type": "text",
    "id": "-wLFZEivfQkw"
   },
   "source": [
    "Central Limit theorem\n",
    "\n",
    "Let $X_1,X_2,...,X_n$ be i.i.d. random variables with expected value $E(X_i)= \\mu$ and variance$ 0<Var(X_i)= \\sigma^2<\\infty$. Then, the random variable\n",
    "$Z_n= \\frac{\\bar{X} -\\mu}{\\sigma/ \\sqrt{n}}= \\frac{X_1+X_2+...+X_n -n\\mu} {n \\sqrt{σ}}$\n",
    "converges in distribution to the standard normal random variable as $n$ goes to infinity"
   ]
  },
  {
   "cell_type": "markdown",
   "metadata": {
    "colab_type": "text",
    "id": "C9UpIGjkmCNE"
   },
   "source": [
    "The Gaussian distribution is useful because of the central limit theorem which establishes that, in some situations, when independent random variables are added, their properly normalized sum tends toward a normal distribution regardless of the underlying distribution of the original random variables. So, if we have a sample drawn from a Gaussian distribution, it siginifies that the random variable itself may be a sum of identically distributed independent random variables with some distributions.\n",
    "\n",
    "PDF: ${\\displaystyle f(x\\mid \\mu ,\\sigma ^{2})={\\frac {1}{\\sqrt {2\\pi \\sigma ^{2}}}}e^{-{\\frac {(x-\\mu )^{2}}{2\\sigma ^{2}}}}}$"
   ]
  },
  {
   "cell_type": "markdown",
   "metadata": {
    "colab_type": "text",
    "id": "qCuGwc83SAaH"
   },
   "source": [
    "### b. Exponential distribution"
   ]
  },
  {
   "cell_type": "markdown",
   "metadata": {
    "colab_type": "text",
    "id": "z409EABgl-U1"
   },
   "source": [
    "The exponential distribution (also known as the negative exponential distribution) is the probability distribution that describes the time between events in a Poisson process, that is, a process in which events occur continuously and independently at a constant average rate. Also, exponential distribution exhibits the memorlyess property, i.e., $\\Pr(X> m+n \\mid X \\geq m) = \\Pr(X > n)$\n",
    "\n",
    "PDF: $ f(x;\\lambda) = \\begin{cases}\n",
    "\\lambda e^{-\\lambda x} & x \\ge 0, \\\\\n",
    "0 & x < 0.\n",
    "\\end{cases}$"
   ]
  },
  {
   "cell_type": "markdown",
   "metadata": {
    "colab_type": "text",
    "id": "1ob1ikgISAaO"
   },
   "source": [
    "### c. Weibull distribution"
   ]
  },
  {
   "cell_type": "markdown",
   "metadata": {
    "colab_type": "text",
    "id": "Uf18GOy8l57t"
   },
   "source": [
    "The probability density function of a Weibull random variable is:\n",
    "$\n",
    "{\\displaystyle f(x;\\lambda ,k)={\\begin{cases}{\\frac {k}{\\lambda }}\\left({\\frac {x}{\\lambda }}\\right)^{k-1}e^{-(x/\\lambda )^{k}}&x\\geq 0,\\\\0&x<0,\\end{cases}}}$\n",
    "\n",
    "where k > 0 is the shape parameter and $\\lambda$ > 0 is the scale parameter of the distribution. Its complementary cumulative distribution function is a stretched exponential function. The Weibull distribution is related to a number of other probability distributions; in particular, it interpolates between the exponential distribution (k = 1) and the Rayleigh distribution (k = 2 and ${\\displaystyle \\lambda ={\\sqrt {2}}\\sigma }).$"
   ]
  },
  {
   "cell_type": "markdown",
   "metadata": {
    "colab_type": "text",
    "id": "0OWbfxJcSAaT"
   },
   "source": [
    "## 2.  Plot the probability distribution of reaction times. Does this distribution fit any known distributions (Gaussian, Weibull, Exponential)? What does the fit distribution signify?"
   ]
  },
  {
   "cell_type": "code",
   "execution_count": 0,
   "metadata": {
    "colab": {},
    "colab_type": "code",
    "id": "qv8X_083fQlE",
    "outputId": "7347eddf-3314-4c87-f64f-556fb3f742aa",
    "scrolled": true
   },
   "outputs": [
    {
     "data": {
      "text/plain": [
       "Text(0, 0.5, 'Frequency')"
      ]
     },
     "execution_count": 254,
     "metadata": {
      "tags": []
     },
     "output_type": "execute_result"
    },
    {
     "data": {
      "image/png": "[encoded data removed]",
      "text/plain": [
       "<Figure size 432x288 with 1 Axes>"
      ]
     },
     "metadata": {
      "tags": []
     },
     "output_type": "display_data"
    }
   ],
   "source": [
    "diseng['ReactionTime'].dropna().plot(kind='hist',bins=50,density=True)\n",
    "plt.title('Probability Distribution Plot')\n",
    "plt.xlabel('Reaction Time (s)')\n",
    "plt.ylabel('Frequency')"
   ]
  },
  {
   "cell_type": "code",
   "execution_count": 0,
   "metadata": {
    "colab": {},
    "colab_type": "code",
    "id": "T3ww2aNefQlI"
   },
   "outputs": [],
   "source": [
    "# reference:\n",
    "# https://stackoverflow.com/questions/37487830/how-to-find-probability-distribution-and-parameters-for-real-data-python-3\n",
    "import scipy.stats as st\n",
    "\n",
    "def get_best_distribution(data,dist_names):\n",
    "    dist_results = []\n",
    "    params = {}\n",
    "    for dist_name in dist_names:\n",
    "        dist = getattr(st, dist_name)\n",
    "        # fit the distribution and get parameters\n",
    "        param = dist.fit(data)\n",
    "        params[dist_name] = param\n",
    "        # Applying the Kolmogorov-Smirnov test\n",
    "        D, p = st.kstest(data, dist_name, args=param)\n",
    "        print(\"p value for \"+dist_name+\" = \"+str(p))\n",
    "        dist_results.append((dist_name, p))\n",
    "\n",
    "    # select the best fitted distribution\n",
    "    best_dist, best_p = (max(dist_results, key=lambda item: item[1]))\n",
    "\n",
    "    print(\"Best fitting distribution: \"+str(best_dist))\n",
    "    print(\"Best p value: \"+ str(best_p))\n",
    "    print(\"Parameters for the best fit: \"+ str(params[best_dist]))\n",
    "\n",
    "    return best_dist, best_p, params[best_dist]"
   ]
  },
  {
   "cell_type": "code",
   "execution_count": 0,
   "metadata": {
    "colab": {},
    "colab_type": "code",
    "id": "mKvXMGdffQlM",
    "outputId": "7c49daab-28e3-4636-b9b8-19310e9d9aed"
   },
   "outputs": [
    {
     "name": "stdout",
     "output_type": "stream",
     "text": [
      "p value for norm = 0.0\n",
      "p value for expon = 2.931537575268095e-05\n",
      "p value for exponweib = 0.5797693796632608\n",
      "p value for gamma = 0.0\n",
      "Best fitting distribution: exponweib\n",
      "Best p value: 0.5797693796632608\n",
      "Parameters for the best fit: (62.13448003707407, 0.304116246270133, -0.09454998901334455, 0.00459917324040706)\n"
     ]
    }
   ],
   "source": [
    "reaction = diseng['ReactionTime'].dropna().values\n",
    "dist_names = ['norm','expon','exponweib','gamma']\n",
    "best_dist, best_p, params=get_best_distribution(reaction,dist_names)"
   ]
  },
  {
   "cell_type": "code",
   "execution_count": 0,
   "metadata": {
    "colab": {},
    "colab_type": "code",
    "id": "GuGTfPO0fQlT",
    "outputId": "e0c87cbc-37de-4848-f406-301bbf4c1614"
   },
   "outputs": [
    {
     "data": {
      "text/plain": [
       "Text(0, 0.5, 'Frequency')"
      ]
     },
     "execution_count": 257,
     "metadata": {
      "tags": []
     },
     "output_type": "execute_result"
    },
    {
     "data": {
      "image/png": "[encoded data removed]",
      "text/plain": [
       "<Figure size 432x288 with 1 Axes>"
      ]
     },
     "metadata": {
      "tags": []
     },
     "output_type": "display_data"
    }
   ],
   "source": [
    "sns.distplot(reaction,fit=stats.exponweib,kde=False)\n",
    "plt.title('Expon Weilbul Distribution Fit')\n",
    "plt.xlabel('Reaction Time (s)')\n",
    "plt.ylabel('Frequency')"
   ]
  },
  {
   "cell_type": "markdown",
   "metadata": {
    "colab_type": "text",
    "id": "vSz5aR6hfPZ2"
   },
   "source": [
    "The reaction time has a weibul distribution which signifies that the probability of reaction time of a human being high is low."
   ]
  },
  {
   "cell_type": "markdown",
   "metadata": {
    "colab_type": "text",
    "id": "50E1P7ezSAab"
   },
   "source": [
    "## 3. Compute the average reaction time"
   ]
  },
  {
   "cell_type": "markdown",
   "metadata": {
    "colab_type": "text",
    "id": "a1l2n3EaSAae"
   },
   "source": [
    "### a. For the entire duration of the dataset"
   ]
  },
  {
   "cell_type": "code",
   "execution_count": 0,
   "metadata": {
    "colab": {},
    "colab_type": "code",
    "id": "reybGrVTSAaf",
    "outputId": "b8fd8dbb-e3c1-4389-f5b7-29f25f6becf5"
   },
   "outputs": [
    {
     "name": "stdout",
     "output_type": "stream",
     "text": [
      "0.9297703252032526\n"
     ]
    }
   ],
   "source": [
    "avg_reaction_time = diseng['ReactionTime'].mean()\n",
    "print(avg_reaction_time)"
   ]
  },
  {
   "cell_type": "markdown",
   "metadata": {
    "colab_type": "text",
    "id": "3rdRbkLeSAak"
   },
   "source": [
    "### b. For the entire duration of the dataset differentiated by the location of disengagement"
   ]
  },
  {
   "cell_type": "code",
   "execution_count": 0,
   "metadata": {
    "colab": {},
    "colab_type": "code",
    "id": "5FXGDfbfSAak",
    "outputId": "b58ed33c-104d-48ff-96af-d6405a15f624"
   },
   "outputs": [
    {
     "name": "stdout",
     "output_type": "stream",
     "text": [
      "              ReactionTime\n",
      "Location                  \n",
      "highway            1.48000\n",
      "urban-street       0.92865\n"
     ]
    }
   ],
   "source": [
    "avg_reaction_time = diseng.groupby(diseng['Location']).mean()\n",
    "print(avg_reaction_time)"
   ]
  },
  {
   "cell_type": "markdown",
   "metadata": {
    "colab_type": "text",
    "id": "_0XALCzLSAap"
   },
   "source": [
    "## 4. It is known that the mean reaction time for humans in non-AV cars is 1.09 seconds [4]. Is the mean reaction time for humans in AV cars different from non-AV cars? Perform a hypothesis test at a 0.05 significance level."
   ]
  },
  {
   "cell_type": "code",
   "execution_count": 0,
   "metadata": {
    "colab": {
     "base_uri": "https://localhost:8080/",
     "height": 54
    },
    "colab_type": "code",
    "id": "GRB8BYuZSAas",
    "outputId": "ab571613-5eae-4f5d-8370-a84aef5e07cf"
   },
   "outputs": [
    {
     "name": "stdout",
     "output_type": "stream",
     "text": [
      "The t-statistic is -2.099 and the p-value is 0.036.\n",
      "The mean reaction time for humans in AV cars is different from non-AV cars.\n"
     ]
    }
   ],
   "source": [
    "reaction_time = list(diseng[diseng['ReactionTime'].notnull()]['ReactionTime'])\n",
    "one_sample = st.ttest_1samp(reaction_time, 1.09)\n",
    "print(\"The t-statistic is %.3f and the p-value is %.3f.\" % one_sample)\n",
    "\n",
    "if one_sample[1] < 0.05:\n",
    "    print(\"The mean reaction time for humans in AV cars is different from non-AV cars.\")\n",
    "else:\n",
    "    print(\"The mean reaction time for humans in AV cars is not different from non-AV cars.\")"
   ]
  },
  {
   "cell_type": "markdown",
   "metadata": {
    "colab_type": "text",
    "id": "sqBpv4waSAaw"
   },
   "source": [
    "## 5. Plot the probability distribution of disengagements/mile with monthly granularity. Does this distribution fit any known distributions (Gaussian, Weibull, Exponential)? What does the fit distribution signify?"
   ]
  },
  {
   "cell_type": "code",
   "execution_count": 0,
   "metadata": {
    "colab": {
     "base_uri": "https://localhost:8080/",
     "height": 398
    },
    "colab_type": "code",
    "id": "kes7NSKiY9DN",
    "outputId": "848489bb-338d-410d-a4a9-164f679d377c"
   },
   "outputs": [
    {
     "data": {
      "text/plain": [
       "Text(0.5, 1.0, 'disengagement per mile')"
      ]
     },
     "execution_count": 261,
     "metadata": {
      "tags": []
     },
     "output_type": "execute_result"
    },
    {
     "data": {
      "image/png": "[encoded data removed]",
      "text/plain": [
       "<Figure size 432x288 with 1 Axes>"
      ]
     },
     "metadata": {
      "tags": []
     },
     "output_type": "display_data"
    }
   ],
   "source": [
    "trend['disengagement per mile'].plot(kind='hist',bins=40,density=True)\n",
    "plt.xlabel('disengagement', fontsize=12)\n",
    "plt.ylabel('Frequency')\n",
    "plt.title('disengagement per mile', fontsize=14)"
   ]
  },
  {
   "cell_type": "code",
   "execution_count": 0,
   "metadata": {
    "colab": {},
    "colab_type": "code",
    "id": "VywDMq34fQlx",
    "outputId": "079ca13c-3512-490e-c526-8c8c05fd0c08"
   },
   "outputs": [
    {
     "name": "stdout",
     "output_type": "stream",
     "text": [
      "p value for norm = 0.471544296974868\n",
      "p value for expon = 0.9806696005068393\n",
      "p value for exponweib = 0.0027869462809533285\n",
      "p value for gamma = 0.21767425026785103\n",
      "Best fitting distribution: expon\n",
      "Best p value: 0.9806696005068393\n",
      "Parameters for the best fit: (0.0003605973188528763, 0.0021407886857360853)\n"
     ]
    }
   ],
   "source": [
    "diseng_mile = trend['disengagement per mile'].values\n",
    "best_dist, best_p, params=get_best_distribution(diseng_mile,dist_names)"
   ]
  },
  {
   "cell_type": "code",
   "execution_count": 0,
   "metadata": {
    "colab": {},
    "colab_type": "code",
    "id": "MGcEnb7mfQl2",
    "outputId": "a1440dac-89a3-4e0a-9b4e-c6ff697d3a8e"
   },
   "outputs": [
    {
     "data": {
      "text/plain": [
       "Text(0, 0.5, 'Frequency')"
      ]
     },
     "execution_count": 262,
     "metadata": {
      "tags": []
     },
     "output_type": "execute_result"
    },
    {
     "data": {
      "image/png": "[encoded data removed]",
      "text/plain": [
       "<Figure size 432x288 with 1 Axes>"
      ]
     },
     "metadata": {
      "tags": []
     },
     "output_type": "display_data"
    }
   ],
   "source": [
    "sns.distplot(diseng_mile,bins=40,fit=stats.expon,kde=False)\n",
    "plt.title('Exponential Distribution Fit')\n",
    "plt.xlabel('diseng per mile)')\n",
    "plt.ylabel('Frequency')"
   ]
  },
  {
   "cell_type": "markdown",
   "metadata": {
    "colab_type": "text",
    "id": "q4PRn73Kf4kq"
   },
   "source": [
    "The fit distribution signifies that the disengagement per mile is exponentially distributed, i.e., the probability of disengagement within one mile decreases as the mile increases."
   ]
  },
  {
   "cell_type": "markdown",
   "metadata": {
    "colab_type": "text",
    "id": "Gd5QVogjgKMb"
   },
   "source": [
    "# Task 2 – Probabilistic Analysis of AV Disengagement"
   ]
  },
  {
   "cell_type": "markdown",
   "metadata": {
    "colab_type": "text",
    "id": "5eAOpIzagYMJ"
   },
   "source": [
    "## Question 1"
   ]
  },
  {
   "cell_type": "markdown",
   "metadata": {
    "colab_type": "text",
    "id": "x9e-BcMkzfi4"
   },
   "source": [
    "### 1a. "
   ]
  },
  {
   "cell_type": "markdown",
   "metadata": {
    "colab_type": "text",
    "id": "8O93aThCyBkc"
   },
   "source": [
    "The assumption on maximum number of disengagements in a mile allows us to treat the occurrence of a disengagement in a mile as a random variable with an **bernoulli distribution**"
   ]
  },
  {
   "cell_type": "markdown",
   "metadata": {
    "colab_type": "text",
    "id": "skCjRvFG5gt_"
   },
   "source": [
    "###1b. Based on the above assumptions, calculate the probability of disengagement per mile on a cloudy day."
   ]
  },
  {
   "cell_type": "markdown",
   "metadata": {
    "colab_type": "text",
    "id": "dVmYjIuGCmC4"
   },
   "source": [
    "We can calculate the probability of disengagement per mile from data by dividing total no of diseng to total no of miles.\n",
    "\n",
    "$$P(DPM){\\rm{  =  }}{{{\\rm{Total Number of Diseng}}} \\over {{\\rm{Total Number of miles}}}}$$"
   ]
  },
  {
   "cell_type": "code",
   "execution_count": 0,
   "metadata": {
    "colab": {
     "base_uri": "https://localhost:8080/",
     "height": 34
    },
    "colab_type": "code",
    "id": "fo9lz8YcwZJq",
    "outputId": "2ca40dcd-d8d9-4adc-d4fa-4a284591d81b"
   },
   "outputs": [
    {
     "name": "stdout",
     "output_type": "stream",
     "text": [
      "P(DPM): 0.002026803687040926\n"
     ]
    }
   ],
   "source": [
    "P_dpm = t_miles['total number of disengagements'].sum()/t_miles['miles driven in autonomous mode'].sum()\n",
    "print(\"P(DPM): {0}\".format(P_dpm))"
   ]
  },
  {
   "cell_type": "markdown",
   "metadata": {
    "colab_type": "text",
    "id": "e-wusJy7BqAJ"
   },
   "source": [
    "The prob of diseng per mile on a cloudy day can be calculated using Bayes Rule.\n",
    "\n",
    "$$P(DPM|Cloudy) = {{P(Cloudy|DPM)P(DPM)} \\over {P(Cloudy)}}$$\n",
    "\n",
    "Here P(Cloudy|DPM)can be calculated by counting conditional observations from data.\n"
   ]
  },
  {
   "cell_type": "code",
   "execution_count": 0,
   "metadata": {
    "colab": {
     "base_uri": "https://localhost:8080/",
     "height": 34
    },
    "colab_type": "code",
    "id": "IkWU4CARMfxg",
    "outputId": "64d59861-e95b-4e02-975d-36f74c827f3b"
   },
   "outputs": [
    {
     "name": "stdout",
     "output_type": "stream",
     "text": [
      "P(DPM|cloudy): 0.00590255677552725\n"
     ]
    }
   ],
   "source": [
    "# probability of clear weather is given as 0.72\n",
    "P_cloudy = 1-0.72\n",
    "# separate the dataset with cloudy weather\n",
    "cloudy = diseng['Weather']=='cloudy'\n",
    "# calculate probability\n",
    "P_dpm_cloudy = (sum(cloudy) / len(diseng)) * P_dpm / P_cloudy\n",
    "print(\"P(DPM|cloudy): {0}\".format(P_dpm_cloudy))"
   ]
  },
  {
   "cell_type": "markdown",
   "metadata": {
    "colab_type": "text",
    "id": "iTGEMRdFLm8P"
   },
   "source": [
    "### 1c.  Based on the above assumptions, calculate the probability of disengagement per mile on a clear day."
   ]
  },
  {
   "cell_type": "markdown",
   "metadata": {
    "colab_type": "text",
    "id": "Aicsq6LFLm8Q"
   },
   "source": [
    "Similarly we can calculate the probability of diseng on a clear day using Bayes Rule.\n",
    "\n",
    "$$P(DPM|Clear) = {{P(Clear|DPM)P(DPM)} \\over {P(Clear)}}$$\n"
   ]
  },
  {
   "cell_type": "code",
   "execution_count": 0,
   "metadata": {
    "colab": {
     "base_uri": "https://localhost:8080/",
     "height": 34
    },
    "colab_type": "code",
    "id": "D9-gbCvdPqM9",
    "outputId": "6210ef34-12a5-4131-cd7f-98a800feea65"
   },
   "outputs": [
    {
     "name": "stdout",
     "output_type": "stream",
     "text": [
      "P(DPM|clear): 0.0005195663748517999\n"
     ]
    }
   ],
   "source": [
    "# a day can either be cloudy or clear. so dataset with clear weather will be\n",
    "clear = ~cloudy\n",
    "# probability of clear weather is given as 0.72\n",
    "P_clear = 0.72\n",
    "# calculate probability of diseng per mile on a clear day using bayes rule.\n",
    "P_dpm_clear = (sum(clear) / len(diseng)) * P_dpm / P_clear\n",
    "print(\"P(DPM|clear): {0}\".format(P_dpm_clear))"
   ]
  },
  {
   "cell_type": "markdown",
   "metadata": {
    "colab_type": "text",
    "id": "hkLmhZHwQdRQ"
   },
   "source": [
    "**Note:**  \n",
    "The probability of disengagement on a clear day is much smaller than the probability of disengagement  on a cloudy day."
   ]
  },
  {
   "cell_type": "markdown",
   "metadata": {
    "colab_type": "text",
    "id": "LvT31Xoz5yBr"
   },
   "source": [
    "### 1d. calculate the probability of an automatic disengagement per mile on a cloudy day\n"
   ]
  },
  {
   "cell_type": "markdown",
   "metadata": {
    "colab_type": "text",
    "id": "LexfBtevufbq"
   },
   "source": [
    "$$P(Automatic,DPM|Cloudy) = \\frac{{P(Automatic,DPM,Cloudy)}}{{P(Cloudy)}} = \\frac{{P(Automatic,Cloudy|DPM)P(DPM)}}{{P(Cloudy)}}$$\n",
    "\n",
    "Here P(Automatic,Cloudy|DPM) can be calculated directly from data by counting conditional observations.\n"
   ]
  },
  {
   "cell_type": "code",
   "execution_count": 0,
   "metadata": {
    "colab": {
     "base_uri": "https://localhost:8080/",
     "height": 34
    },
    "colab_type": "code",
    "id": "72QZfBvm56xT",
    "outputId": "93168336-dd71-4e6b-9a66-618b46b30b10"
   },
   "outputs": [
    {
     "name": "stdout",
     "output_type": "stream",
     "text": [
      "P(Automatic,DPM|Cloudy): 0.0028063653172267287\n"
     ]
    }
   ],
   "source": [
    "# separate the dataset with automatic diseng\n",
    "automatic = diseng['TypeOfTrigger']=='automatic'\n",
    "# calculate prob\n",
    "P_dpm_cloudy_automatic = (sum(cloudy & automatic) / len(diseng)) *  P_dpm / P_cloudy\n",
    "print(\"P(Automatic,DPM|Cloudy): {0}\".format(P_dpm_cloudy_automatic))"
   ]
  },
  {
   "cell_type": "markdown",
   "metadata": {
    "colab_type": "text",
    "id": "_q9-aXU2A3_z"
   },
   "source": [
    "Similarly calculate the probability of an automatic disengagement per mile on a clear day."
   ]
  },
  {
   "cell_type": "markdown",
   "metadata": {
    "colab_type": "text",
    "id": "b3JxJ9BGLm8j"
   },
   "source": [
    "$$P(Automatic,DPM|Clear) = \\frac{{P(Automatic,DPM,Clear)}}{{P(Clear)}} = \\frac{{P(Automatic,Clear|DPM)P(DPM)}}{{P(Clear)}}$$"
   ]
  },
  {
   "cell_type": "code",
   "execution_count": 0,
   "metadata": {
    "colab": {
     "base_uri": "https://localhost:8080/",
     "height": 34
    },
    "colab_type": "code",
    "id": "tdJXvT-5AjBg",
    "outputId": "715d4181-b96e-43f1-84a1-9b0431c19155"
   },
   "outputs": [
    {
     "name": "stdout",
     "output_type": "stream",
     "text": [
      "P(Automatic,DPM|Clear): 0.00026390673008345393\n"
     ]
    }
   ],
   "source": [
    "P_dpm_clear_automatic = (sum(clear & automatic) / len(diseng)) * P_dpm / P_clear\n",
    "print(\"P(Automatic,DPM|Clear): {0}\".format(P_dpm_clear_automatic))"
   ]
  },
  {
   "cell_type": "markdown",
   "metadata": {
    "colab_type": "text",
    "id": "hPixzpBm52Ai"
   },
   "source": [
    "### 1e. \n",
    "How likely is it that in 10000 miles, there are 150 or more disengagements under\n",
    "cloudy conditions?"
   ]
  },
  {
   "cell_type": "markdown",
   "metadata": {
    "colab_type": "text",
    "id": "rR-oNv4FSD-g"
   },
   "source": [
    "**Normal Distribution Approximation**\n",
    "\n",
    "As the sample size (N = 10000) is much larger so using central limit theorem and law of large numbers, we can approximate the binomial distribution of disengagements in cloudy atmosphere as a normal distribution. The mean and variance for normal distribution can be calculated as follows. \n",
    "\n",
    "$$\\mu  = Np = 10000 \\times P(DPM |Cloudy)$$\n",
    "$${\\sigma ^2} = Np(1 - p) = 10000 \\times P(DPM |Cloudy)(1 - P(DPM |Cloudy))$$\n",
    "\n",
    "So, we would have $$Z_{n} = (X_{n} - \\mu)/\\sigma$$ as standard normal distribution. We need to calculate: $P(X_{n} \\geq 150)$ so we apply the approximation and calculate $P(X_{n}> 150 - 0.5)$ (As we change to continuous normal distribution from discrete binomial )"
   ]
  },
  {
   "cell_type": "code",
   "execution_count": 0,
   "metadata": {
    "colab": {
     "base_uri": "https://localhost:8080/",
     "height": 34
    },
    "colab_type": "code",
    "id": "TnU2M8HjPGCf",
    "outputId": "0da81338-5eef-487c-c93a-478e293b1dd5"
   },
   "outputs": [
    {
     "name": "stdout",
     "output_type": "stream",
     "text": [
      "Probability of 150 or more disengagements in 10000 miles under cloudy conditions: 0.0\n"
     ]
    }
   ],
   "source": [
    "mean = 10000*P_dpm_cloudy\n",
    "std = np.sqrt(10000*P_dpm_cloudy*(1-P_dpm_cloudy))\n",
    "prob = 1-stats.norm(mean, std).cdf(149.5)\n",
    "print('Probability of 150 or more disengagements in 10000 miles under cloudy conditions: {0}'.format(prob))"
   ]
  },
  {
   "cell_type": "markdown",
   "metadata": {
    "colab_type": "text",
    "id": "HmRPFhNQgZnJ"
   },
   "source": [
    "## Question 2"
   ]
  },
  {
   "cell_type": "markdown",
   "metadata": {
    "colab_type": "text",
    "id": "9IcpAG6Py1pO"
   },
   "source": [
    "At the 0.05 significance level, test the following hypothesis: The AV has more\n",
    "disengagements (automatic and manual) on cloudy days than clear days. Based on the result of the hypothesis test, what can you conclude about the impact of weather conditions on AV safety?"
   ]
  },
  {
   "cell_type": "markdown",
   "metadata": {
    "colab_type": "text",
    "id": "k9ZOZV9J0tuy"
   },
   "source": [
    "We can use z-test for comparing proportions and test the following hypothesis:"
   ]
  },
  {
   "cell_type": "markdown",
   "metadata": {
    "colab_type": "text",
    "id": "VYV5Urz-Lm81"
   },
   "source": [
    "\n",
    "$$\\eqalign{& {H_o}:{\\text{ Number of disengagement in cloudy}  \\leq \\text{ Number of disengagement in clear}}  \\cr \n",
    "  & {H_a}:{\\text{Number of disengagement in cloudy} >  \\text{Number of disengagement in clear}} \\cr} $$"
   ]
  },
  {
   "cell_type": "code",
   "execution_count": 0,
   "metadata": {
    "colab": {
     "base_uri": "https://localhost:8080/",
     "height": 34
    },
    "colab_type": "code",
    "id": "D2pgkaRgLm85",
    "outputId": "543f20d4-fecb-43e9-ba8e-16de26c60499"
   },
   "outputs": [
    {
     "name": "stdout",
     "output_type": "stream",
     "text": [
      "Disengs on Cloudy: 835 , Disengs on Clear: 189\n"
     ]
    }
   ],
   "source": [
    "Total_diseng= t_miles['total number of disengagements'].sum()\n",
    "Total_miles = t_miles['miles driven in autonomous mode'].sum()\n",
    "#Calculating total miles travelled in clear and cloudy weather using assumption one and three \n",
    "Cloudy_miles = P_cloudy*Total_miles\n",
    "Clear_miles = P_clear*Total_miles\n",
    "Counts = [cloudy.sum(),(~cloudy).sum()]\n",
    "print(\"Disengs on Cloudy: {0} , Disengs on Clear: {1}\".format(Counts[0],Counts[1]))"
   ]
  },
  {
   "cell_type": "code",
   "execution_count": 0,
   "metadata": {
    "colab": {
     "base_uri": "https://localhost:8080/",
     "height": 34
    },
    "colab_type": "code",
    "id": "kvrg307xLm9H",
    "outputId": "dfc4d832-85ac-483c-c587-e6438faea041"
   },
   "outputs": [
    {
     "name": "stdout",
     "output_type": "stream",
     "text": [
      "p-value: 0.0\n"
     ]
    }
   ],
   "source": [
    "from statsmodels.stats.proportion import proportions_ztest\n",
    "stat, pval = proportions_ztest(Counts, [Cloudy_miles, Clear_miles],alternative='larger')\n",
    "print('p-value: {0}'.format(pval))"
   ]
  },
  {
   "cell_type": "markdown",
   "metadata": {
    "colab_type": "text",
    "id": "TaDfkFIoLm9S"
   },
   "source": [
    "The p-value is zero and hence, null hypothesis is rejected. Therefore, AV has more disengagements on cloudy days."
   ]
  },
  {
   "cell_type": "markdown",
   "metadata": {
    "colab_type": "text",
    "id": "qW1TEhHjgaKT"
   },
   "source": [
    "## Question 3"
   ]
  },
  {
   "cell_type": "markdown",
   "metadata": {
    "colab_type": "text",
    "id": "PqJLe93-y-l7"
   },
   "source": [
    "### 3a. What’s the conditional probability that the reaction time is greater than 0.5s given that the weather was cloudy?"
   ]
  },
  {
   "cell_type": "markdown",
   "metadata": {
    "colab_type": "text",
    "id": "5RXlWlNQ1cqx"
   },
   "source": [
    "Reaction time is only relevant to automatic disengagements, so we considered only the observations with automatic disengagement. \n",
    "\n",
    "The required probability can be calculated directly from data by counting conditional observations.\n",
    "\n",
    "$P(RT>0.5s|Cloudy,Automatic)$ = **Condition: (Weather=Cloudy) & (Automatic = True) & (Reaction Time > 0.5s)**"
   ]
  },
  {
   "cell_type": "code",
   "execution_count": 0,
   "metadata": {
    "colab": {
     "base_uri": "https://localhost:8080/",
     "height": 34
    },
    "colab_type": "code",
    "id": "0p_1aVWi3NB-",
    "outputId": "bc835c8d-75bf-4ff2-8a9f-98d82ee0c61e"
   },
   "outputs": [
    {
     "name": "stdout",
     "output_type": "stream",
     "text": [
      "P(Reaction Time > 0.5s | Cloudy): 0.5390428211586902\n"
     ]
    }
   ],
   "source": [
    "P_reaction_cloudy = sum(cloudy & automatic & (diseng['ReactionTime']>0.5))/sum(cloudy & automatic)\n",
    "print(\"P(Reaction Time > 0.5s | Cloudy): {0}\".format(P_reaction_cloudy))"
   ]
  },
  {
   "cell_type": "markdown",
   "metadata": {
    "colab_type": "text",
    "id": "mkJTtB2_zKRD"
   },
   "source": [
    "### 3b. What’s the conditional probability that the reaction time is greater than 0.7s given that the weather was clear?"
   ]
  },
  {
   "cell_type": "markdown",
   "metadata": {
    "colab_type": "text",
    "id": "yRr15M-B3uLJ"
   },
   "source": [
    "The required probability can be calculated similarly from data by counting conditional observations.\n",
    "\n",
    "$P(RT>0.7s|Clear,Automatic)$ = **Condition: (Weather=Clear) & (Automatic = True) & (Reaction Time > 0.7s)**\n"
   ]
  },
  {
   "cell_type": "code",
   "execution_count": 0,
   "metadata": {
    "colab": {
     "base_uri": "https://localhost:8080/",
     "height": 34
    },
    "colab_type": "code",
    "id": "cwOVKMJ504So",
    "outputId": "5f2e2744-ca2d-4558-d1fb-8c09dd71dc79"
   },
   "outputs": [
    {
     "name": "stdout",
     "output_type": "stream",
     "text": [
      "P(Reaction Time > 0.7s | Clear): 0.3854166666666667\n"
     ]
    }
   ],
   "source": [
    "P_reaction_clear = sum(clear & automatic & (diseng['ReactionTime']>0.7))/sum(clear & automatic)\n",
    "print(\"P(Reaction Time > 0.7s | Clear): {0}\".format(P_reaction_clear))"
   ]
  },
  {
   "cell_type": "markdown",
   "metadata": {
    "colab_type": "text",
    "id": "Ct-O_iiVgaVZ"
   },
   "source": [
    "## Question 4"
   ]
  },
  {
   "cell_type": "markdown",
   "metadata": {
    "colab_type": "text",
    "id": "9h_BF_vQAPgx"
   },
   "source": [
    "A study found that an automatic AV disengagement will result in an accident if the human driver is slow in reacting. Following reactions are considered slow: (i) a reaction time greater than 0.5s under cloudy conditions and, (ii) a reaction time greater than 0.7s under clear conditions. Find the probability of an accident per mile involving an AV disengagement."
   ]
  },
  {
   "cell_type": "markdown",
   "metadata": {
    "colab_type": "text",
    "id": "n7vP1f4sLm9h"
   },
   "source": [
    "$$P(acc/mile) = P(RT>0.7s|Clear, DPM)P(DPM|Clear)P(Clear) + P(RT>0.5s|Cloudy, DPM)P(DPM|Cloudy)P(Cloudy))$$"
   ]
  },
  {
   "cell_type": "code",
   "execution_count": 0,
   "metadata": {
    "colab": {
     "base_uri": "https://localhost:8080/",
     "height": 34
    },
    "colab_type": "code",
    "id": "6Tnx-K3cgpcq",
    "outputId": "e2454008-5553-41df-dce6-905b9620d1c4"
   },
   "outputs": [
    {
     "name": "stdout",
     "output_type": "stream",
     "text": [
      "P(acc/mile): 0.0004968044193821021\n"
     ]
    }
   ],
   "source": [
    "P_reaction = (P_reaction_clear * P_clear * P_dpm_clear_automatic) + (P_reaction_cloudy * (1 - P_clear) * P_dpm_cloudy_automatic)\n",
    "print(\"P(acc/mile): {0}\".format(P_reaction))"
   ]
  },
  {
   "cell_type": "markdown",
   "metadata": {
    "colab_type": "text",
    "id": "izecVEvsgqBq"
   },
   "source": [
    "## Question 5"
   ]
  },
  {
   "cell_type": "markdown",
   "metadata": {
    "colab_type": "text",
    "id": "x20nsd4EArws"
   },
   "source": [
    "The probability of a human driver causing a car accident is 2x10-6 . How do AVs compare to human drivers?"
   ]
  },
  {
   "cell_type": "code",
   "execution_count": 0,
   "metadata": {
    "colab": {
     "base_uri": "https://localhost:8080/",
     "height": 68
    },
    "colab_type": "code",
    "id": "ricX4IAngqua",
    "outputId": "13237f56-8c7a-40a9-948e-d96ba051f85e"
   },
   "outputs": [
    {
     "name": "stdout",
     "output_type": "stream",
     "text": [
      "P(Car Accident | Human Driver): 2e-06\n",
      "P(Car Accident | AV): 0.0004968044193821021\n",
      "The probability of a human driver causing a car accident is smaller than AVs.\n"
     ]
    }
   ],
   "source": [
    "P_human = 2e-6\n",
    "print(\"P(Car Accident | Human Driver): {0}\".format(P_human))\n",
    "print(\"P(Car Accident | AV): {0}\".format(P_reaction))\n",
    "\n",
    "if P_reaction > P_human:\n",
    "    print(\"The probability of a human driver causing a car accident is smaller than AVs.\")\n",
    "elif P_reaction == P_human:\n",
    "    print(\"The probability of a human driver causing a car accident is same as AVs.\")\n",
    "else:\n",
    "    print(\"The probability of a human driver causing a car accident is larger than AVs.\")"
   ]
  },
  {
   "cell_type": "code",
   "execution_count": 0,
   "metadata": {
    "colab": {
     "base_uri": "https://localhost:8080/",
     "height": 34
    },
    "colab_type": "code",
    "id": "gBznC_RdA4jW",
    "outputId": "98bae498-8c8a-4e9d-b3bc-2f2c8fe98bde"
   },
   "outputs": [
    {
     "name": "stdout",
     "output_type": "stream",
     "text": [
      "Ratio of P(acc|AV) to P(acc/Human): 248.40220969105104\n"
     ]
    }
   ],
   "source": [
    "print(\"Ratio of P(acc|AV) to P(acc/Human): {0}\".format(P_reaction/P_human))"
   ]
  },
  {
   "cell_type": "markdown",
   "metadata": {
    "colab_type": "text",
    "id": "1GgwKPZ9Bm7O"
   },
   "source": [
    "**Conclusion: As the ratio is much larger, we can conclude that currently AVs are not safe for driving. **"
   ]
  },
  {
   "cell_type": "markdown",
   "metadata": {
    "colab_type": "text",
    "id": "MrjIDnnSEBRc"
   },
   "source": [
    "# Task 3"
   ]
  },
  {
   "cell_type": "markdown",
   "metadata": {
    "colab_type": "text",
    "id": "HCW3FdSH7SAB"
   },
   "source": [
    "## Question 1\n",
    "\n",
    "<b> INTRODUCING CLASS LABELS COLUMN</b>"
   ]
  },
  {
   "cell_type": "code",
   "execution_count": 0,
   "metadata": {
    "colab": {
     "base_uri": "https://localhost:8080/",
     "height": 204
    },
    "colab_type": "code",
    "executionInfo": {
     "elapsed": 606,
     "status": "ok",
     "timestamp": 1550540385538,
     "user": {
      "displayName": "Qasim Nazir",
      "photoUrl": "https://lh3.googleusercontent.com/-l-ZaWBCgmIs/AAAAAAAAAAI/AAAAAAAAYSo/-zOTCilviDI/s64/photo.jpg",
      "userId": "05547482919120757611"
     },
     "user_tz": 360
    },
    "id": "guiQ18GkHrT6",
    "outputId": "c0697ce4-5ee0-4b59-c920-737474050a16"
   },
   "outputs": [
    {
     "data": {
      "text/html": [
       "<div>\n",
       "<style scoped>\n",
       "    .dataframe tbody tr th:only-of-type {\n",
       "        vertical-align: middle;\n",
       "    }\n",
       "\n",
       "    .dataframe tbody tr th {\n",
       "        vertical-align: top;\n",
       "    }\n",
       "\n",
       "    .dataframe thead th {\n",
       "        text-align: right;\n",
       "    }\n",
       "</style>\n",
       "<table border=\"1\" class=\"dataframe\">\n",
       "  <thead>\n",
       "    <tr style=\"text-align: right;\">\n",
       "      <th></th>\n",
       "      <th>Month</th>\n",
       "      <th>Car</th>\n",
       "      <th>Location</th>\n",
       "      <th>Weather</th>\n",
       "      <th>TypeOfTrigger</th>\n",
       "      <th>ReactionTime</th>\n",
       "      <th>Cause</th>\n",
       "      <th>Class</th>\n",
       "    </tr>\n",
       "  </thead>\n",
       "  <tbody>\n",
       "    <tr>\n",
       "      <th>0</th>\n",
       "      <td>2014-09-01</td>\n",
       "      <td>WDD2221851A001072</td>\n",
       "      <td>urban-street</td>\n",
       "      <td>cloudy</td>\n",
       "      <td>automatic</td>\n",
       "      <td>0.58</td>\n",
       "      <td>Incorrect Traffic Light Detection</td>\n",
       "      <td>Perception System</td>\n",
       "    </tr>\n",
       "    <tr>\n",
       "      <th>1</th>\n",
       "      <td>2014-09-01</td>\n",
       "      <td>WDD2221851A001072</td>\n",
       "      <td>urban-street</td>\n",
       "      <td>cloudy</td>\n",
       "      <td>automatic</td>\n",
       "      <td>0.66</td>\n",
       "      <td>Adverse road surface conditions</td>\n",
       "      <td>Perception System</td>\n",
       "    </tr>\n",
       "    <tr>\n",
       "      <th>2</th>\n",
       "      <td>2014-09-01</td>\n",
       "      <td>WDD2221851A001072</td>\n",
       "      <td>urban-street</td>\n",
       "      <td>cloudy</td>\n",
       "      <td>automatic</td>\n",
       "      <td>1.93</td>\n",
       "      <td>Position Estimation Failure</td>\n",
       "      <td>Perception System</td>\n",
       "    </tr>\n",
       "    <tr>\n",
       "      <th>3</th>\n",
       "      <td>2014-09-01</td>\n",
       "      <td>WDD2221851A001072</td>\n",
       "      <td>urban-street</td>\n",
       "      <td>cloudy</td>\n",
       "      <td>automatic</td>\n",
       "      <td>0.65</td>\n",
       "      <td>Emergency Vehicle</td>\n",
       "      <td>Perception System</td>\n",
       "    </tr>\n",
       "    <tr>\n",
       "      <th>4</th>\n",
       "      <td>2014-09-01</td>\n",
       "      <td>WDD2221851A001072</td>\n",
       "      <td>urban-street</td>\n",
       "      <td>cloudy</td>\n",
       "      <td>automatic</td>\n",
       "      <td>0.64</td>\n",
       "      <td>Adverse road surface conditions</td>\n",
       "      <td>Perception System</td>\n",
       "    </tr>\n",
       "  </tbody>\n",
       "</table>\n",
       "</div>"
      ],
      "text/plain": [
       "       Month                Car      Location Weather TypeOfTrigger  \\\n",
       "0 2014-09-01  WDD2221851A001072  urban-street  cloudy     automatic   \n",
       "1 2014-09-01  WDD2221851A001072  urban-street  cloudy     automatic   \n",
       "2 2014-09-01  WDD2221851A001072  urban-street  cloudy     automatic   \n",
       "3 2014-09-01  WDD2221851A001072  urban-street  cloudy     automatic   \n",
       "4 2014-09-01  WDD2221851A001072  urban-street  cloudy     automatic   \n",
       "\n",
       "   ReactionTime                              Cause              Class  \n",
       "0          0.58  Incorrect Traffic Light Detection  Perception System  \n",
       "1          0.66    Adverse road surface conditions  Perception System  \n",
       "2          1.93        Position Estimation Failure  Perception System  \n",
       "3          0.65                  Emergency Vehicle  Perception System  \n",
       "4          0.64    Adverse road surface conditions  Perception System  "
      ]
     },
     "execution_count": 6,
     "metadata": {
      "tags": []
     },
     "output_type": "execute_result"
    }
   ],
   "source": [
    "# replace the cause values with corresponding class label\n",
    "\n",
    "diseng['Class'] = diseng['Cause']\n",
    "diseng['Class'].replace(['Incorrect behavior prediction of others','Recklessly behaving agent','Unwanted Driver Discomfort'],'Controller',inplace=True)\n",
    "diseng['Class'].replace(['Adverse road surface conditions','Emergency Vehicle','Position Estimation Failure','Incorrect Traffic Light Detection'],'Perception System',inplace=True)\n",
    "diseng['Class'].replace(['System Tuning and Calibration','Hardware Fault','Software Froze'],'Computer System',inplace=True)\n",
    "diseng.head()"
   ]
  },
  {
   "cell_type": "code",
   "execution_count": 0,
   "metadata": {
    "colab": {},
    "colab_type": "code",
    "id": "gaesCmCV7SAD"
   },
   "outputs": [],
   "source": [
    "def get_values(data):\n",
    "    colname = data.columns\n",
    "    c_label = data[colname[-1]].unique()\n",
    "    f_name  = colname[:-1]\n",
    "    # create a dict of categorical values for each feature\n",
    "    f_values = {}\n",
    "    for f in f_name:\n",
    "        f_values[f] = data[f].unique()\n",
    "        \n",
    "    return c_label,f_name,f_values\n"
   ]
  },
  {
   "cell_type": "markdown",
   "metadata": {
    "colab_type": "text",
    "id": "vq1-26BkGpoF"
   },
   "source": [
    "Select only the required columns. Get class labels, feature names and their unique values from selected data. Then convert data to a list of values to be used for trianing and prediction."
   ]
  },
  {
   "cell_type": "code",
   "execution_count": 0,
   "metadata": {
    "colab": {},
    "colab_type": "code",
    "id": "VyaakDaKXNM5"
   },
   "outputs": [],
   "source": [
    "# get label names, feature names and their corresponding values\n",
    "\n",
    "c_label,f_name,f_values = get_values(diseng[['Location','Weather','TypeOfTrigger','Class']])\n",
    "data = diseng[['Location','Weather','TypeOfTrigger','Class']].values"
   ]
  },
  {
   "cell_type": "markdown",
   "metadata": {
    "colab_type": "text",
    "id": "98b8PLMk7SAy"
   },
   "source": [
    "## Question 2\n",
    "<b> Randomly Split the Data into train set (80%) and test set (20%) </b>"
   ]
  },
  {
   "cell_type": "code",
   "execution_count": 0,
   "metadata": {
    "colab": {},
    "colab_type": "code",
    "id": "omAPpBJO7R_7"
   },
   "outputs": [],
   "source": [
    "# function that splits dataset into train and test data\n",
    "def split(data,train_ratio):\n",
    "    k = int(len(data) * train_ratio)\n",
    "    # randomly shuffle the dataset\n",
    "    np.random.shuffle(data)\n",
    "    train, test = data[:k,:], data[k:,:]\n",
    "    return train, test"
   ]
  },
  {
   "cell_type": "code",
   "execution_count": 0,
   "metadata": {
    "colab": {
     "base_uri": "https://localhost:8080/",
     "height": 51
    },
    "colab_type": "code",
    "executionInfo": {
     "elapsed": 284,
     "status": "ok",
     "timestamp": 1550540399498,
     "user": {
      "displayName": "Qasim Nazir",
      "photoUrl": "https://lh3.googleusercontent.com/-l-ZaWBCgmIs/AAAAAAAAAAI/AAAAAAAAYSo/-zOTCilviDI/s64/photo.jpg",
      "userId": "05547482919120757611"
     },
     "user_tz": 360
    },
    "id": "EdcZ4l1u7SA0",
    "outputId": "2f5afbcf-e239-4598-ddc3-6020073cc82c"
   },
   "outputs": [
    {
     "name": "stdout",
     "output_type": "stream",
     "text": [
      "Size of Train Data: 819\n",
      "Size of Test Data: 205\n"
     ]
    }
   ],
   "source": [
    "train, test = split(data,0.8)\n",
    "print(\"Size of Train Data: {0}\".format(len(train)))\n",
    "print(\"Size of Test Data: {0}\".format(len(test)))"
   ]
  },
  {
   "cell_type": "markdown",
   "metadata": {
    "colab_type": "text",
    "id": "Yq4-RRNb7SA_"
   },
   "source": [
    "## Question 3"
   ]
  },
  {
   "cell_type": "markdown",
   "metadata": {
    "colab_type": "text",
    "id": "F3_fHjEm7SBB"
   },
   "source": [
    "<b> TRAINING </b>\n",
    "\n",
    "Train a Naive Bayes model on the training data. The outputs are values of individual class probabilities and the conditional probabilities of categorical values of features"
   ]
  },
  {
   "cell_type": "markdown",
   "metadata": {
    "colab_type": "text",
    "id": "Xcd8PBuLD8CK"
   },
   "source": [
    "$$p({C_k}) = \\frac{{No.{\\text{ }}of{\\text{ }}diseng{\\text{ }}with{\\text{ }}{C_k}}}{{Total{\\text{ }}No.{\\text{ }}of{\\text{ }}diseng}}$$"
   ]
  },
  {
   "cell_type": "markdown",
   "metadata": {
    "colab_type": "text",
    "id": "IUNwXNb7Dv5e"
   },
   "source": [
    "$$p({x_i}|{C_k}) = \\frac{{No.{\\text{ }}of{\\text{ }}{x_i}{\\text{ }}in{\\text{ }}{C_k}}}{{Total{\\text{ }}No.{\\text{ }}of{\\text{ }}diseng{\\text{ }}with{\\text{ }}{C_k}}}$$"
   ]
  },
  {
   "cell_type": "code",
   "execution_count": 0,
   "metadata": {
    "colab": {},
    "colab_type": "code",
    "id": "zzaaB-q_YqI8"
   },
   "outputs": [],
   "source": [
    "# function accepts the data values in the form of a list.\n",
    "\n",
    "def train_NB(data,c_label,f_name,f_values):\n",
    "    \n",
    "    c_prob = {}\n",
    "    f_prob = {}\n",
    "    N = len(data)\n",
    "    for label in c_label:\n",
    "        # separate data values for class label\n",
    "        separated   = data[data[:,-1]==label]\n",
    "        Ns = len(separated)\n",
    "        # calculate class probability\n",
    "        c_prob[label] = Ns/N\n",
    "        temp2 = {}\n",
    "        for i, f in enumerate(f_name): # repeate the procedure for each feature\n",
    "            # create a temporary dictionary\n",
    "            temp1 = {}\n",
    "            for val in f_values[f]:\n",
    "                # calculate conditional probability\n",
    "                #temp1[val] = sum(separated[f]==val)/Ns\n",
    "                temp1[val] = round(sum(separated[:,i]==val)/Ns,4)  \n",
    "            temp2[f]=temp1\n",
    "        f_prob[label]=temp2\n",
    "    # return a dict containing individual class probabilities\n",
    "    # return a dict containing conditional probabilities of each categorical value\n",
    "    return c_prob,f_prob"
   ]
  },
  {
   "cell_type": "markdown",
   "metadata": {
    "colab_type": "text",
    "id": "NwFRmUiuKsJi"
   },
   "source": [
    "**Class Probabilities P(C_k)**\n"
   ]
  },
  {
   "cell_type": "code",
   "execution_count": 0,
   "metadata": {
    "colab": {
     "base_uri": "https://localhost:8080/",
     "height": 68
    },
    "colab_type": "code",
    "executionInfo": {
     "elapsed": 918,
     "status": "ok",
     "timestamp": 1550540407353,
     "user": {
      "displayName": "Qasim Nazir",
      "photoUrl": "https://lh3.googleusercontent.com/-l-ZaWBCgmIs/AAAAAAAAAAI/AAAAAAAAYSo/-zOTCilviDI/s64/photo.jpg",
      "userId": "05547482919120757611"
     },
     "user_tz": 360
    },
    "id": "psZmDUC77SBG",
    "outputId": "0a9fe586-106c-40ec-e0de-8b7bebbfd88e"
   },
   "outputs": [
    {
     "data": {
      "text/plain": [
       "{'Computer System': 0.2979242979242979,\n",
       " 'Controller': 0.3443223443223443,\n",
       " 'Perception System': 0.35775335775335776}"
      ]
     },
     "execution_count": 13,
     "metadata": {
      "tags": []
     },
     "output_type": "execute_result"
    }
   ],
   "source": [
    "c_prob,f_prob = train_NB(train,c_label,f_name,f_values)\n",
    "c_prob"
   ]
  },
  {
   "cell_type": "markdown",
   "metadata": {
    "colab_type": "text",
    "id": "faEfT1d8LCCB"
   },
   "source": [
    "**Categorical Feature Probabilities P(x_i|C_k)**"
   ]
  },
  {
   "cell_type": "code",
   "execution_count": 0,
   "metadata": {
    "colab": {
     "base_uri": "https://localhost:8080/",
     "height": 142
    },
    "colab_type": "code",
    "executionInfo": {
     "elapsed": 347,
     "status": "ok",
     "timestamp": 1550540410543,
     "user": {
      "displayName": "Qasim Nazir",
      "photoUrl": "https://lh3.googleusercontent.com/-l-ZaWBCgmIs/AAAAAAAAAAI/AAAAAAAAYSo/-zOTCilviDI/s64/photo.jpg",
      "userId": "05547482919120757611"
     },
     "user_tz": 360
    },
    "id": "01OORG077SBN",
    "outputId": "ade92df0-9297-455d-cb98-f06f635b4672"
   },
   "outputs": [
    {
     "data": {
      "text/html": [
       "<div>\n",
       "<style scoped>\n",
       "    .dataframe tbody tr th:only-of-type {\n",
       "        vertical-align: middle;\n",
       "    }\n",
       "\n",
       "    .dataframe tbody tr th {\n",
       "        vertical-align: top;\n",
       "    }\n",
       "\n",
       "    .dataframe thead th {\n",
       "        text-align: right;\n",
       "    }\n",
       "</style>\n",
       "<table border=\"1\" class=\"dataframe\">\n",
       "  <thead>\n",
       "    <tr style=\"text-align: right;\">\n",
       "      <th></th>\n",
       "      <th>Computer System</th>\n",
       "      <th>Controller</th>\n",
       "      <th>Perception System</th>\n",
       "    </tr>\n",
       "  </thead>\n",
       "  <tbody>\n",
       "    <tr>\n",
       "      <th>Location</th>\n",
       "      <td>{'urban-street': 0.9508, 'highway': 0.0492}</td>\n",
       "      <td>{'urban-street': 1.0, 'highway': 0.0}</td>\n",
       "      <td>{'urban-street': 1.0, 'highway': 0.0}</td>\n",
       "    </tr>\n",
       "    <tr>\n",
       "      <th>TypeOfTrigger</th>\n",
       "      <td>{'automatic': 0.4918, 'manual': 0.5082}</td>\n",
       "      <td>{'automatic': 0.1277, 'manual': 0.8723}</td>\n",
       "      <td>{'automatic': 0.8396, 'manual': 0.1604}</td>\n",
       "    </tr>\n",
       "    <tr>\n",
       "      <th>Weather</th>\n",
       "      <td>{'cloudy': 0.3811, 'clear': 0.6189}</td>\n",
       "      <td>{'cloudy': 1.0, 'clear': 0.0}</td>\n",
       "      <td>{'cloudy': 1.0, 'clear': 0.0}</td>\n",
       "    </tr>\n",
       "  </tbody>\n",
       "</table>\n",
       "</div>"
      ],
      "text/plain": [
       "                                           Computer System  \\\n",
       "Location       {'urban-street': 0.9508, 'highway': 0.0492}   \n",
       "TypeOfTrigger      {'automatic': 0.4918, 'manual': 0.5082}   \n",
       "Weather                {'cloudy': 0.3811, 'clear': 0.6189}   \n",
       "\n",
       "                                            Controller  \\\n",
       "Location         {'urban-street': 1.0, 'highway': 0.0}   \n",
       "TypeOfTrigger  {'automatic': 0.1277, 'manual': 0.8723}   \n",
       "Weather                  {'cloudy': 1.0, 'clear': 0.0}   \n",
       "\n",
       "                                     Perception System  \n",
       "Location         {'urban-street': 1.0, 'highway': 0.0}  \n",
       "TypeOfTrigger  {'automatic': 0.8396, 'manual': 0.1604}  \n",
       "Weather                  {'cloudy': 1.0, 'clear': 0.0}  "
      ]
     },
     "execution_count": 14,
     "metadata": {
      "tags": []
     },
     "output_type": "execute_result"
    }
   ],
   "source": [
    "pd.DataFrame(f_prob)"
   ]
  },
  {
   "cell_type": "markdown",
   "metadata": {
    "colab_type": "text",
    "id": "DGixI6K_7SBU"
   },
   "source": [
    "## Question 4"
   ]
  },
  {
   "cell_type": "markdown",
   "metadata": {
    "colab_type": "text",
    "id": "k08eKZjY7SBa"
   },
   "source": [
    "<b> TESTING </b>\n",
    "\n",
    "Now test the trained model on test data. Predict the class with maximum conditional probability"
   ]
  },
  {
   "cell_type": "markdown",
   "metadata": {
    "colab_type": "text",
    "id": "KGnsnpxHDLDr"
   },
   "source": [
    "Assumption: $$p({x_i}|{x_{i + 1}},{x_{i + 2}},..,{x_n},{C_k}) = p({x_i}|{C_k})$$"
   ]
  },
  {
   "cell_type": "markdown",
   "metadata": {
    "colab_type": "text",
    "id": "lLjNdFj7AiKP"
   },
   "source": [
    "$${C^*} = \\mathop {\\arg \\max }\\limits_{k \\in \\{ 1,...,K\\} } p({C_k})\\prod\\limits_{i = 1}^n {p({x_i}|{C_k})} $$"
   ]
  },
  {
   "cell_type": "code",
   "execution_count": 0,
   "metadata": {
    "colab": {},
    "colab_type": "code",
    "id": "TbdRPF907SAR"
   },
   "outputs": [],
   "source": [
    "def NB_pred(data,c_prob,f_prob,c_label,f_name,f_values):\n",
    "    pred = []\n",
    "    for row in data:  \n",
    "        score = {}\n",
    "        # calculate conditional probability for each class\n",
    "        for c in c_label:\n",
    "            CP = 1\n",
    "            # calculate probability using Bayes Rule assuming that features are independent\n",
    "            for i,f in enumerate(f_name):\n",
    "                CP = CP*f_prob[c][f][row[i]]\n",
    "            score[c]= CP*c_prob[c]\n",
    "        # use MAP rule to get class label\n",
    "        # select the class with maximum probability\n",
    "        pred.append(max(score, key=score.get))\n",
    "    return pred"
   ]
  },
  {
   "cell_type": "markdown",
   "metadata": {
    "colab_type": "text",
    "id": "EtVVtBHh7SAa"
   },
   "source": [
    "<b> FUNCTION FOR CALCULATING ACCURACY </b>"
   ]
  },
  {
   "cell_type": "code",
   "execution_count": 0,
   "metadata": {
    "colab": {},
    "colab_type": "code",
    "id": "sgyLilBv7SAe"
   },
   "outputs": [],
   "source": [
    "# function that calculates accuracy of a model given the predictions\n",
    "def get_accuracy(true,pred):\n",
    "    accuracy = round(sum(true==pred)/len(true),4)\n",
    "    return accuracy"
   ]
  },
  {
   "cell_type": "code",
   "execution_count": 0,
   "metadata": {
    "colab": {
     "base_uri": "https://localhost:8080/",
     "height": 34
    },
    "colab_type": "code",
    "executionInfo": {
     "elapsed": 301,
     "status": "ok",
     "timestamp": 1550540418979,
     "user": {
      "displayName": "Qasim Nazir",
      "photoUrl": "https://lh3.googleusercontent.com/-l-ZaWBCgmIs/AAAAAAAAAAI/AAAAAAAAYSo/-zOTCilviDI/s64/photo.jpg",
      "userId": "05547482919120757611"
     },
     "user_tz": 360
    },
    "id": "AQs2c8rc7SBd",
    "outputId": "f87012c7-6234-4227-fe1c-2fc0de3e0212"
   },
   "outputs": [
    {
     "name": "stdout",
     "output_type": "stream",
     "text": [
      "Accuracy: 0.7854\n"
     ]
    }
   ],
   "source": [
    "pred = NB_pred(test,c_prob,f_prob,c_label,f_name,f_values)\n",
    "accuracy = get_accuracy(test[:,-1], pred)\n",
    "print(\"Accuracy: {0}\".format(accuracy))"
   ]
  },
  {
   "cell_type": "markdown",
   "metadata": {
    "colab_type": "text",
    "id": "gY-xVYnW7SBq"
   },
   "source": [
    "## Question 5\n",
    "<b> CROSS-VALIDATION </b>"
   ]
  },
  {
   "cell_type": "code",
   "execution_count": 0,
   "metadata": {
    "colab": {
     "base_uri": "https://localhost:8080/",
     "height": 51
    },
    "colab_type": "code",
    "executionInfo": {
     "elapsed": 436,
     "status": "ok",
     "timestamp": 1550540627282,
     "user": {
      "displayName": "Qasim Nazir",
      "photoUrl": "https://lh3.googleusercontent.com/-l-ZaWBCgmIs/AAAAAAAAAAI/AAAAAAAAYSo/-zOTCilviDI/s64/photo.jpg",
      "userId": "05547482919120757611"
     },
     "user_tz": 360
    },
    "id": "at4T4hlT7SBu",
    "outputId": "11482bf8-9700-4f23-a952-773ef223cb8e"
   },
   "outputs": [
    {
     "name": "stdout",
     "output_type": "stream",
     "text": [
      "Accuracy List: [0.8, 0.8049, 0.8293, 0.7951, 0.7902, 0.7805, 0.7805, 0.8098, 0.7463, 0.8]\n",
      "Average Accuracy: 0.7937\n"
     ]
    }
   ],
   "source": [
    "accuracy = []\n",
    "for i in range(10):\n",
    "    train, test = split(data, train_ratio=0.8)\n",
    "    c_prob,f_prob = train_NB(train,c_label,f_name,f_values)\n",
    "    pred = NB_pred(test,c_prob,f_prob,c_label,f_name,f_values)\n",
    "    acc = get_accuracy(test[:,-1], pred)\n",
    "    accuracy.append(acc)\n",
    "avg_acc = round(np.mean(accuracy),4)\n",
    "print(\"Accuracy List: {0}\".format(accuracy))\n",
    "print(\"Average Accuracy: {0}\".format(avg_acc))"
   ]
  },
  {
   "cell_type": "markdown",
   "metadata": {
    "colab_type": "text",
    "id": "zvEvJjkf7SB4"
   },
   "source": [
    "## Question 6\n",
    "<b> PERFORMANCE OF THE MODEL </b>"
   ]
  },
  {
   "cell_type": "markdown",
   "metadata": {
    "colab_type": "text",
    "id": "D_SFYwEA7SB8"
   },
   "source": [
    "$P(Chance) = P(Choose \\  Class \\ 1|Class\\  1) + P(Choose \\  Class\\ 2|Class\\ 2) + P(Choose \\ Class\\ 3|Class\\ 3)$\n",
    "\n",
    "$P(Choose \\  Class \\ i) = \\text{ Number of instance of class i in training data}/ \\text{ Total number of Observations in training data}$\n",
    "\n",
    "$P(Class \\ i) = \\text{ Number of instance of class i in testing data}/ \\text{ Total number of Observations in testing data}$\n",
    "\n",
    "$P(Choose \\  Class \\ i|Class\\  i) = P(Choose \\  Class \\ i) \\times P(Class \\ i)$ ( They are Independent)"
   ]
  },
  {
   "cell_type": "code",
   "execution_count": 0,
   "metadata": {
    "colab": {
     "base_uri": "https://localhost:8080/",
     "height": 85
    },
    "colab_type": "code",
    "executionInfo": {
     "elapsed": 255,
     "status": "ok",
     "timestamp": 1550540639695,
     "user": {
      "displayName": "Qasim Nazir",
      "photoUrl": "https://lh3.googleusercontent.com/-l-ZaWBCgmIs/AAAAAAAAAAI/AAAAAAAAYSo/-zOTCilviDI/s64/photo.jpg",
      "userId": "05547482919120757611"
     },
     "user_tz": 360
    },
    "id": "FhpAtxwn7SB9",
    "outputId": "756337f9-45b9-4b24-a2f9-fc3cb918c217"
   },
   "outputs": [
    {
     "name": "stdout",
     "output_type": "stream",
     "text": [
      "train probabilities classes: [0.2967033  0.35531136 0.34798535]\n",
      "test probabilities for classes: [0.29756098 0.34146341 0.36097561]\n",
      "The probabilities for guessing are: 0.3352273742517645\n",
      "Hence Algorithm is doing better than chance\n"
     ]
    }
   ],
   "source": [
    "_, counts_train = np.unique(train[:,-1],return_counts=True)\n",
    "train_probs = counts_train/len(train[:,-1])\n",
    "print('train probabilities classes:',train_probs)\n",
    "vals, counts_test = np.unique(test[:,-1],return_counts=True)\n",
    "test_class_probs = counts_test/len(test[:,-1])\n",
    "print('test probabilities for classes:',test_class_probs)\n",
    "\n",
    "Guess_right = sum(train_probs*test_class_probs)\n",
    "print('The accuracy for guessing is:',(Guess_right))\n",
    "\n",
    "print('Hence Algorithm is doing better than chance')"
   ]
  },
  {
   "cell_type": "markdown",
   "metadata": {
    "colab_type": "text",
    "id": "BDtZBAFH7SCC"
   },
   "source": [
    "## Question 7"
   ]
  },
  {
   "cell_type": "markdown",
   "metadata": {
    "colab_type": "text",
    "id": "RKM_3vFNLphc"
   },
   "source": [
    "Assumption: $$p({x_i}|{x_{i + 1}},{x_{i + 2}},..,{x_n},{C_k}) = p({x_i}|{C_k})$$"
   ]
  },
  {
   "cell_type": "markdown",
   "metadata": {
    "colab_type": "text",
    "id": "i1DFltkl7SCE"
   },
   "source": [
    "The assumption of the model is class conditional independence\n",
    "The assumptions seem to be reasonable as given a class of disengagement, the location: Highway or Street, Weather: Cloudy or Clear and Type of Trigger: Automatic or Manual, seem to be reasonable\n",
    "\n",
    "*Testing the assumption for all classes:*"
   ]
  },
  {
   "cell_type": "code",
   "execution_count": 0,
   "metadata": {
    "colab": {},
    "colab_type": "code",
    "id": "-owNuce13JD9"
   },
   "outputs": [],
   "source": [
    "#Dividing data into classes\n",
    "data = diseng[['Location','Weather','TypeOfTrigger','Class']]\n",
    "Percept = data.loc[data['Class'] =='Perception System']\n",
    "Controll = data.loc[data['Class'] == 'Controller']\n",
    "ComputerSystem = data.loc[data['Class'] == 'Computer System']"
   ]
  },
  {
   "cell_type": "markdown",
   "metadata": {
    "colab_type": "text",
    "id": "fNx3ea5K3JD_"
   },
   "source": [
    "<b> For Controller <b>"
   ]
  },
  {
   "cell_type": "markdown",
   "metadata": {
    "colab_type": "text",
    "id": "5VCfJCU73JD_"
   },
   "source": [
    "Testing Independece of Weather and Type of Trigger"
   ]
  },
  {
   "cell_type": "code",
   "execution_count": 0,
   "metadata": {
    "colab": {
     "base_uri": "https://localhost:8080/",
     "height": 34
    },
    "colab_type": "code",
    "executionInfo": {
     "elapsed": 297,
     "status": "ok",
     "timestamp": 1550540790993,
     "user": {
      "displayName": "Qasim Nazir",
      "photoUrl": "https://lh3.googleusercontent.com/-l-ZaWBCgmIs/AAAAAAAAAAI/AAAAAAAAYSo/-zOTCilviDI/s64/photo.jpg",
      "userId": "05547482919120757611"
     },
     "user_tz": 360
    },
    "id": "RCg5kThV3JEA",
    "outputId": "3f435797-d443-4996-c6a3-1e87be00f876"
   },
   "outputs": [
    {
     "name": "stdout",
     "output_type": "stream",
     "text": [
      "As p-val is 0.27903314254026157 null hypothesis is not rejected and these are independent\n"
     ]
    }
   ],
   "source": [
    "Num_manual_Cloudy = ((Controll['Weather']== 'cloudy') & (Controll['TypeOfTrigger'] == 'manual')).sum()\n",
    "Num_auto_Cloudy = ((Controll['Weather']== 'cloudy') & (Controll['TypeOfTrigger'] == 'automatic')).sum()\n",
    "Num_manual_Clear = ((Controll['Weather']== 'clear') & (Controll['TypeOfTrigger'] == 'manual')).sum()\n",
    "Num_auto_Clear = ((Controll['Weather']== 'clear') & (Controll['TypeOfTrigger'] == 'automatic')).sum()\n",
    "\n",
    "Table = pd.DataFrame(data = {'Clear': [Num_manual_Clear, Num_auto_Clear], 'Cloudy': [Num_manual_Cloudy, Num_auto_Cloudy]}, index = ['Manual', 'Auto'])\n",
    "Table\n",
    "chi2, p, dof, expected = stats.chi2_contingency(Table)\n",
    "print('As p-val is',p,'null hypothesis is not rejected and these are independent')"
   ]
  },
  {
   "cell_type": "markdown",
   "metadata": {
    "colab_type": "text",
    "id": "aSUAfd-t3JEB"
   },
   "source": [
    "Testing Independece of Location and Type of Trigger"
   ]
  },
  {
   "cell_type": "code",
   "execution_count": 0,
   "metadata": {
    "colab": {
     "base_uri": "https://localhost:8080/",
     "height": 85
    },
    "colab_type": "code",
    "executionInfo": {
     "elapsed": 418,
     "status": "ok",
     "timestamp": 1550540795926,
     "user": {
      "displayName": "Qasim Nazir",
      "photoUrl": "https://lh3.googleusercontent.com/-l-ZaWBCgmIs/AAAAAAAAAAI/AAAAAAAAYSo/-zOTCilviDI/s64/photo.jpg",
      "userId": "05547482919120757611"
     },
     "user_tz": 360
    },
    "id": "qWi5RI5K3JEB",
    "outputId": "1e840a49-58b2-437b-84c2-2cf2bb9c4fc4"
   },
   "outputs": [
    {
     "name": "stdout",
     "output_type": "stream",
     "text": [
      "        highway  urban-street\n",
      "Manual        0           313\n",
      "Auto          0            48\n",
      "Data not available for one column, chi-square test cannot be applied\n"
     ]
    }
   ],
   "source": [
    "Num_manual_urbanstreet = ((Controll['Location'] == 'urban-street') & (Controll['TypeOfTrigger'] == 'manual')).sum()\n",
    "Num_auto_urbanstreet = ((Controll['Location']== 'urban-street') & (Controll['TypeOfTrigger'] == 'automatic')).sum()\n",
    "Num_manual_highway= ((Controll['Location']== 'highway') & (Controll['TypeOfTrigger'] == 'manual')).sum()\n",
    "Num_auto_highway = ((Controll['Location']== 'highway') & (Controll['TypeOfTrigger'] == 'automatic')).sum()\n",
    "\n",
    "Table = pd.DataFrame(data = {'urban-street': [Num_manual_urbanstreet, Num_auto_urbanstreet], 'highway': [Num_manual_highway, Num_auto_highway]}, index = ['Manual', 'Auto'])\n",
    "print(Table)\n",
    "#chi2, p, dof, expected = stats.chi2_contingency(Table)\n",
    "print('Data not available for one column, chi-square test cannot be applied')"
   ]
  },
  {
   "cell_type": "markdown",
   "metadata": {
    "colab_type": "text",
    "id": "VIqYUek83JEC"
   },
   "source": [
    "For the class : <b> Computer System </b>"
   ]
  },
  {
   "cell_type": "markdown",
   "metadata": {
    "colab_type": "text",
    "id": "qzdBDWrY3JED"
   },
   "source": [
    "Testing Independence of Location and Type of Trigger"
   ]
  },
  {
   "cell_type": "code",
   "execution_count": 0,
   "metadata": {
    "colab": {
     "base_uri": "https://localhost:8080/",
     "height": 85
    },
    "colab_type": "code",
    "executionInfo": {
     "elapsed": 287,
     "status": "ok",
     "timestamp": 1550540800335,
     "user": {
      "displayName": "Qasim Nazir",
      "photoUrl": "https://lh3.googleusercontent.com/-l-ZaWBCgmIs/AAAAAAAAAAI/AAAAAAAAYSo/-zOTCilviDI/s64/photo.jpg",
      "userId": "05547482919120757611"
     },
     "user_tz": 360
    },
    "id": "o7CzRw_13JEE",
    "outputId": "55146ac6-d2c3-46ad-a264-62958504b231"
   },
   "outputs": [
    {
     "name": "stdout",
     "output_type": "stream",
     "text": [
      "        highway  urban-street\n",
      "Manual       19           138\n",
      "Auto          1           146\n",
      "As p-val is 0.0001551155946845226 which is low, hence the two variables are not independent\n"
     ]
    }
   ],
   "source": [
    "Num_manual_urbanstreet = ((ComputerSystem['Location'] == 'urban-street') & (ComputerSystem['TypeOfTrigger'] == 'manual')).sum()\n",
    "Num_auto_urbanstreet = ((ComputerSystem['Location']== 'urban-street') & (ComputerSystem['TypeOfTrigger'] == 'automatic')).sum()\n",
    "Num_manual_highway= ((ComputerSystem['Location']== 'highway') & (ComputerSystem['TypeOfTrigger'] == 'manual')).sum()\n",
    "Num_auto_highway = ((ComputerSystem['Location']== 'highway') & (ComputerSystem['TypeOfTrigger'] == 'automatic')).sum()\n",
    "\n",
    "Table = pd.DataFrame(data = {'urban-street': [Num_manual_urbanstreet, Num_auto_urbanstreet], 'highway': [Num_manual_highway, Num_auto_highway]}, index = ['Manual', 'Auto'])\n",
    "print(Table)\n",
    "chi2, p, dof, expected = stats.chi2_contingency(Table)\n",
    "print('As p-val is',p,'which is low, hence the two variables are not independent')"
   ]
  },
  {
   "cell_type": "markdown",
   "metadata": {
    "colab_type": "text",
    "id": "Kj0-WOmi3JEH"
   },
   "source": [
    "Therefore, the assumption that Location and Type of Trigger are class conditionally independent is invalid for the class Computer System. "
   ]
  },
  {
   "cell_type": "markdown",
   "metadata": {
    "colab_type": "text",
    "id": "k13ybqDc7SCF"
   },
   "source": [
    "## Question 8"
   ]
  },
  {
   "cell_type": "markdown",
   "metadata": {
    "colab_type": "text",
    "id": "YZ_ejBHN7SCG"
   },
   "source": [
    "As seen above that the class conditional independence is invalid for one case and also cannot be tested for another indicates that the Naive Bayes may not be perfectly accurate for this type of data. Classification accuracy may be improved by using other type of classifiers which do not make such assumption. (example: Logistic Regression)"
   ]
  }
 ],
 "metadata": {
  "colab": {
   "collapsed_sections": [
    "g-MFRaELSAZl",
    "12tb2yjGSAZ1",
    "Gd5QVogjgKMb"
   ],
   "name": "MP_Main_file.ipynb",
   "provenance": [],
   "version": "0.3.2"
  },
  "kernelspec": {
   "display_name": "Python 3",
   "language": "python",
   "name": "python3"
  },
  "language_info": {
   "codemirror_mode": {
    "name": "ipython",
    "version": 3
   },
   "file_extension": ".py",
   "mimetype": "text/x-python",
   "name": "python",
   "nbconvert_exporter": "python",
   "pygments_lexer": "ipython3",
   "version": "3.7.3"
  },
  "toc": {
   "base_numbering": 1,
   "nav_menu": {},
   "number_sections": true,
   "sideBar": true,
   "skip_h1_title": false,
   "title_cell": "Table of Contents",
   "title_sidebar": "Contents",
   "toc_cell": false,
   "toc_position": {},
   "toc_section_display": true,
   "toc_window_display": false
  },
  "varInspector": {
   "cols": {
    "lenName": 16,
    "lenType": 16,
    "lenVar": 40
   },
   "kernels_config": {
    "python": {
     "delete_cmd_postfix": "",
     "delete_cmd_prefix": "del ",
     "library": "var_list.py",
     "varRefreshCmd": "print(var_dic_list())"
    },
    "r": {
     "delete_cmd_postfix": ") ",
     "delete_cmd_prefix": "rm(",
     "library": "var_list.r",
     "varRefreshCmd": "cat(var_dic_list()) "
    }
   },
   "types_to_exclude": [
    "module",
    "function",
    "builtin_function_or_method",
    "instance",
    "_Feature"
   ],
   "window_display": false
  }
 },
 "nbformat": 4,
 "nbformat_minor": 1
}
